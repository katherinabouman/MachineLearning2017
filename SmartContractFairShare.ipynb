{
 "cells": [
  {
   "cell_type": "markdown",
   "metadata": {},
   "source": [
    "### Fair Share Smart Contract"
   ]
  },
  {
   "cell_type": "code",
   "execution_count": 1,
   "metadata": {},
   "outputs": [
    {
     "ename": "SyntaxError",
     "evalue": "invalid syntax (<ipython-input-1-a97c69431b99>, line 1)",
     "output_type": "error",
     "traceback": [
      "\u001b[0;36m  File \u001b[0;32m\"<ipython-input-1-a97c69431b99>\"\u001b[0;36m, line \u001b[0;32m1\u001b[0m\n\u001b[0;31m    pragma solidity ^0.4.0;\u001b[0m\n\u001b[0m                  ^\u001b[0m\n\u001b[0;31mSyntaxError\u001b[0m\u001b[0;31m:\u001b[0m invalid syntax\n"
     ]
    }
   ],
   "source": [
    "pragma solidity ^0.4.0;\n",
    "\n",
    "contract FairShare {\n",
    "    address creator;\n",
    "    uint donation;\n",
    "    uint budjet;\n",
    "    \n",
    "    //You can choose a default donation amount\n",
    "    function SetDonation(uint _donation){\n",
    "        donation = _donation;\n",
    "        creator = msg.sender;\n",
    "    }\n",
    "    \n",
    "    //You can choose a amount for the initial budjet\n",
    "    function SetBudjet(uint _budjet){\n",
    "        budjet = _budjet;\n",
    "        creator = msg.sender;\n",
    "    }\n",
    "    \n",
    "    // Returns current amount of the donation\n",
    "    function Donation() constant returns (uint){\n",
    "        return donation;\n",
    "    }\n",
    "    \n",
    "    //Returns current budjet\n",
    "    function Budjet() constant returns (uint){\n",
    "        return budjet;\n",
    "    }\n",
    "    \n",
    "    //Calculates the fair amount of a donation based on certain variables\n",
    "    function CalcDonation(uint _age, uint numchil) returns (uint){\n",
    "        if ((_age <= 20) && (numchil >= 1)){\n",
    "        donation = _age + 2;\n",
    "        budjet = budjet - donation;\n",
    "        return donation;\n",
    "        }\n",
    "        else return donation = 0;\n",
    "        \n",
    "    }\n",
    "\n",
    "    \n",
    "}  "
   ]
  },
  {
   "cell_type": "markdown",
   "metadata": {
    "collapsed": true
   },
   "source": [
    "### version 2"
   ]
  },
  {
   "cell_type": "code",
   "execution_count": null,
   "metadata": {
    "collapsed": true
   },
   "outputs": [],
   "source": [
    "pragma solidity ^0.4.0;\n",
    "\n",
    "contract FairShare {\n",
    "    address creator;\n",
    "    uint donation;\n",
    "    uint budjet;\n",
    "    uint consumption;\n",
    "    \n",
    "    //You can choose a default donation amount\n",
    "    function SetDonation(uint _donation){\n",
    "        donation = _donation;\n",
    "        creator = msg.sender;\n",
    "    }\n",
    "    \n",
    "    //You can choose a amount for the initial budjet\n",
    "    function SetBudjet(uint _budjet){\n",
    "        budjet = _budjet;\n",
    "        creator = msg.sender;\n",
    "    }\n",
    "    \n",
    "    // Returns current amount of the donation\n",
    "    function Donation() constant returns (uint){\n",
    "        return donation;\n",
    "    }\n",
    "    \n",
    "    //Returns current budjet\n",
    "    function Budjet() constant returns (uint){\n",
    "        return budjet;\n",
    "    }\n",
    "    \n",
    "    function CalcConsum(uint _age, uint numchil) returns (uint){\n",
    "        if ((_age <= 20) && (numchil >= 1)){\n",
    "        consumption = 25;\n",
    "        }\n",
    "        if ((_age >= 80) && (numchil >= 1)){\n",
    "        consumption = 15;\n",
    "        }\n",
    "        if ((_age <= 40) && (numchil >= 1)){\n",
    "        consumption = 9;\n",
    "        }\n",
    "    }\n",
    "    \n",
    "    //calculates the fair amount of donation based on certain variables\n",
    "    function CalcDonation() returns (uint){\n",
    "        if (consumption <= 10){\n",
    "        donation = 20;\n",
    "        budjet = budjet - donation;\n",
    "        return donation;\n",
    "        } \n",
    "        if ((consumption > 10) && (consumption < 20)){\n",
    "        donation = 10;\n",
    "        budjet = budjet - donation;\n",
    "        return donation;\n",
    "        }\n",
    "        if (consumption > 20){\n",
    "        donation = 0;\n",
    "        budjet = budjet - donation;\n",
    "        return donation;\n",
    "        }\n",
    "    }\n",
    "\n",
    "    \n",
    "    \n",
    "} "
   ]
  }
 ],
 "metadata": {
  "kernelspec": {
   "display_name": "Python 2",
   "language": "python",
   "name": "python2"
  },
  "language_info": {
   "codemirror_mode": {
    "name": "ipython",
    "version": 2
   },
   "file_extension": ".py",
   "mimetype": "text/x-python",
   "name": "python",
   "nbconvert_exporter": "python",
   "pygments_lexer": "ipython2",
   "version": "2.7.13"
  }
 },
 "nbformat": 4,
 "nbformat_minor": 2
}
