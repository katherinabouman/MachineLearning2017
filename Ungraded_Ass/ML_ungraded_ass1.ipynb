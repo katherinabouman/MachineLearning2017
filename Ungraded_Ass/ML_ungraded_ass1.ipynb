{
 "cells": [
  {
   "cell_type": "markdown",
   "metadata": {},
   "source": [
    "# Lab Exercise 1\n",
    "    Katja Bouman \n",
    "    "
   ]
  },
  {
   "cell_type": "markdown",
   "metadata": {},
   "source": [
    "## Throwing a fair dice"
   ]
  },
  {
   "cell_type": "markdown",
   "metadata": {},
   "source": [
    "1. What is the probability space $ U $ if we throw once with a dice.\n",
    "    \n",
    "    $ U $ = {1, 2, 3, 4, 5, 6} \n",
    "\n",
    "2. We throw the same dice twice. What is the probability space for this experiment?\n",
    "    $ U $ = {(1, 1), (1, 2), ... , (6, 6)} = {(i, j); i ...\n",
    "\n",
    "3. What is the probability to throw a six twice?\n",
    "      \n",
    "   The two events are indepent so you can multiplicate the two probabilities. Which is both times $$ P(6) = 1/6 $$\n",
    "\n",
    "4. What is the probability to get 9 points in total in two throws?\n",
    "    $ U $ = {(3, 6), (4, 5), (5, 4), (6, 3)}\n",
    "    $$ P(U) = \\frac{(3, 6), (4, 5), (5, 4), (6, 3)}{(1, 1), (1, 2), ... , (6, 6) = (i, j); i ... } $$\n",
    "    \n",
    "    "
   ]
  },
  {
   "cell_type": "markdown",
   "metadata": {},
   "source": [
    "## Venn Diagram"
   ]
  },
  {
   "cell_type": "markdown",
   "metadata": {},
   "source": [
    "1. The elementary region with label 3 corresponds with the event $A∩B $ $ A∩B $. Give the events (in terms of $ A $, $ B $ and $ U $) of the other three elementary regions.\n",
    "    \n",
    "   $$ 1 =  ¬ A ∩ B $$\n",
    "   $$ 2 =  A ∩ ¬ B $$\n",
    "   $$ 3 =  A ∩ B $$\n",
    "   $$ 4 =  ¬ A ∩ ¬ B $$"
   ]
  },
  {
   "cell_type": "markdown",
   "metadata": {},
   "source": [
    "2. Calculate the probabilities of the four events defined in the previous question.\n",
    "$$ ¬ A ∩ B = 1- P(A∩B) = 0.2 $$\n",
    "\n",
    "ENZZZZ"
   ]
  },
  {
   "cell_type": "markdown",
   "metadata": {},
   "source": [
    "## Conditional Probability and Bayes Rule"
   ]
  },
  {
   "cell_type": "markdown",
   "metadata": {},
   "source": [
    "1. We have seen that $ 𝖯(A)+𝖯(¬A)=1𝖯(A)+𝖯(¬A)=1$. What about $ 𝖯(A∣B)+𝖯(¬A∣B)$ ?\n",
    "$$ 𝖯(A∣B)=\\frac{ A ∩ B}{𝖯(B)}$$\n",
    "so : \n",
    "$$ 𝖯(A∣B)+𝖯(¬A∣B) = \\frac{P( A ∩ B)}{𝖯(B)} + \\frac{P( ¬A ∩ B)}{𝖯(B)} $$\n",
    "$$ = \\frac{P( A ∩ B) + P( ¬A ∩ B)}{𝖯(B)} $$\n",
    "$$ = \\frac{𝖯(B)}{𝖯(B)} = 1 $$\n",
    "\n",
    "2. We have seen that $ 𝖯(A)+𝖯(¬A)=1P(A)+P(¬A)=1 $ . What about $ 𝖯(A∣B)+𝖯(¬A∣C)P(A∣B)+P(¬A∣C) $ ? \n",
    "\n",
    "3. We have seen that $𝖯(A)+𝖯(¬A)=1P(A)+P(¬A)=1$. What about $𝖯(A∣B)+𝖯(A∣¬B)P(A∣B)+P(A∣¬B)$ ?\n",
    "\n",
    "4. Prove Bayes rule:\n",
    "\n",
    "$$ 𝖯(A∣B)=\\frac{𝖯(A)}{𝖯(B)}𝖯(B∣A) $$\n",
    "Start from the theorem of conditional probability:\n",
    "$$ 𝖯(A∣B) =\\frac{P( A ∩ B)}{𝖯(B)} $$\n",
    "\n",
    "\n",
    "$$ = \\frac{P( A ∩ B)  P(A) }{𝖯(B) P(A)} $$\n",
    "\n",
    "\n",
    "$$ \\frac{P( A ∩ B)}{𝖯(A)} = 𝖯(B∣A) $$\n",
    "so $$ 𝖯(A∣B) = \\frac{P(A)}{𝖯(B)}𝖯(B∣A) $$"
   ]
  },
  {
   "cell_type": "markdown",
   "metadata": {},
   "source": []
  },
  {
   "cell_type": "code",
   "execution_count": 8,
   "metadata": {},
   "outputs": [
    {
     "name": "stdout",
     "output_type": "stream",
     "text": [
      "Using matplotlib backend: MacOSX\n",
      "Populating the interactive namespace from numpy and matplotlib\n"
     ]
    }
   ],
   "source": [
    "%pylab"
   ]
  },
  {
   "cell_type": "code",
   "execution_count": 1,
   "metadata": {
    "collapsed": true
   },
   "outputs": [],
   "source": [
    "import numpy as np"
   ]
  },
  {
   "cell_type": "code",
   "execution_count": 15,
   "metadata": {},
   "outputs": [
    {
     "ename": "SyntaxError",
     "evalue": "invalid syntax (<ipython-input-15-d6e1ca07bc30>, line 1)",
     "output_type": "error",
     "traceback": [
      "\u001b[0;36m  File \u001b[0;32m\"<ipython-input-15-d6e1ca07bc30>\"\u001b[0;36m, line \u001b[0;32m1\u001b[0m\n\u001b[0;31m    data = np.genfromtxt('/Users/KatjaBouman/Downloads/biometrie2014.csv', skip_header = 5, delimiter = ',', converters = {0: lambda x: print x})\u001b[0m\n\u001b[0m                                                                                                                                            ^\u001b[0m\n\u001b[0;31mSyntaxError\u001b[0m\u001b[0;31m:\u001b[0m invalid syntax\n"
     ]
    }
   ],
   "source": [
    "data = np.genfromtxt('/Users/KatjaBouman/Downloads/biometrie2014.csv', skip_header = 5, delimiter = ',', converters = {0: lambda x: print x})"
   ]
  },
  {
   "cell_type": "code",
   "execution_count": 12,
   "metadata": {
    "collapsed": true
   },
   "outputs": [],
   "source": [
    "data = np.genfromtxt('/Users/KatjaBouman/Downloads/biometrie2014.csv', skip_header = 5, delimiter = ',', converters = {0: lambda x: 1.0*int(x[0] == 77)})"
   ]
  },
  {
   "cell_type": "code",
   "execution_count": 13,
   "metadata": {
    "scrolled": true
   },
   "outputs": [
    {
     "data": {
      "text/plain": [
       "array([[   0. ,   60. ,  183. ,   42. ],\n",
       "       [   0. ,  130. ,  185. ,   45. ],\n",
       "       [   0. ,   84. ,  180. ,   42. ],\n",
       "       [   0. ,   65. ,  195. ,   45. ],\n",
       "       [   0. ,   55. ,  170. ,   42. ],\n",
       "       [   0. ,   63. ,  173. ,   41. ],\n",
       "       [   0. ,   74. ,  185. ,   43. ],\n",
       "       [   0. ,   50. ,  170. ,   38. ],\n",
       "       [   0. ,   82. ,  180. ,   42. ],\n",
       "       [   0. ,   77. ,  190. ,   44. ],\n",
       "       [   0. ,   76. ,  179. ,   43. ],\n",
       "       [   0. ,   66. ,  178. ,   42. ],\n",
       "       [   0. ,   79. ,  186. ,   45. ],\n",
       "       [   0. ,   76. ,  189. ,   44. ],\n",
       "       [   0. ,   75. ,  175. ,   42. ],\n",
       "       [   0. ,   90. ,  190. ,   46. ],\n",
       "       [   0. ,   70. ,  180. ,   41. ],\n",
       "       [   0. ,   46. ,  164. ,   36. ],\n",
       "       [   0. ,   98. ,  189. ,   44. ],\n",
       "       [   0. ,   79. ,  180. ,   43. ],\n",
       "       [   0. ,   67. ,  189. ,   44. ],\n",
       "       [   0. ,   81. ,  190. ,   45.3],\n",
       "       [   0. ,   85. ,  190. ,   44.5],\n",
       "       [   0. ,   75. ,  188. ,   44. ],\n",
       "       [   0. ,   70. ,  178. ,   43. ],\n",
       "       [   0. ,   60. ,  180. ,   43. ],\n",
       "       [   0. ,   73. ,  192. ,   44. ],\n",
       "       [   0. ,   76. ,  174. ,   42. ],\n",
       "       [   0. ,   78. ,  187. ,   44. ],\n",
       "       [   0. ,   75. ,  162. ,   38. ],\n",
       "       [   0. ,   50. ,  165. ,   37. ],\n",
       "       [   0. ,   76. ,  188. ,   44.5],\n",
       "       [   0. ,   73. ,  180. ,   43. ]])"
      ]
     },
     "execution_count": 13,
     "metadata": {},
     "output_type": "execute_result"
    }
   ],
   "source": [
    "data"
   ]
  },
  {
   "cell_type": "code",
   "execution_count": 4,
   "metadata": {},
   "outputs": [
    {
     "ename": "NameError",
     "evalue": "name 'array' is not defined",
     "output_type": "error",
     "traceback": [
      "\u001b[0;31m---------------------------------------------------------------------------\u001b[0m",
      "\u001b[0;31mNameError\u001b[0m                                 Traceback (most recent call last)",
      "\u001b[0;32m<ipython-input-4-57dc342bc458>\u001b[0m in \u001b[0;36m<module>\u001b[0;34m()\u001b[0m\n\u001b[0;32m----> 1\u001b[0;31m \u001b[0mhelp\u001b[0m\u001b[0;34m(\u001b[0m\u001b[0marray\u001b[0m\u001b[0;34m)\u001b[0m\u001b[0;34m\u001b[0m\u001b[0m\n\u001b[0m",
      "\u001b[0;31mNameError\u001b[0m: name 'array' is not defined"
     ]
    }
   ],
   "source": [
    "help(array)"
   ]
  },
  {
   "cell_type": "code",
   "execution_count": 17,
   "metadata": {},
   "outputs": [
    {
     "ename": "IndexError",
     "evalue": "tuple index out of range",
     "output_type": "error",
     "traceback": [
      "\u001b[0;31m---------------------------------------------------------------------------\u001b[0m",
      "\u001b[0;31mIndexError\u001b[0m                                Traceback (most recent call last)",
      "\u001b[0;32m<ipython-input-17-8479280ffe3c>\u001b[0m in \u001b[0;36m<module>\u001b[0;34m()\u001b[0m\n\u001b[0;32m----> 1\u001b[0;31m \u001b[0mnp\u001b[0m\u001b[0;34m.\u001b[0m\u001b[0mmean\u001b[0m\u001b[0;34m(\u001b[0m\u001b[0mdata\u001b[0m\u001b[0;34m,\u001b[0m \u001b[0maxis\u001b[0m\u001b[0;34m=\u001b[0m\u001b[0;36m1\u001b[0m\u001b[0;34m,\u001b[0m \u001b[0mdtype\u001b[0m\u001b[0;34m=\u001b[0m\u001b[0mfloat\u001b[0m\u001b[0;34m)\u001b[0m\u001b[0;34m\u001b[0m\u001b[0m\n\u001b[0m",
      "\u001b[0;32m/anaconda/lib/python2.7/site-packages/numpy/core/fromnumeric.pyc\u001b[0m in \u001b[0;36mmean\u001b[0;34m(a, axis, dtype, out, keepdims)\u001b[0m\n\u001b[1;32m   2887\u001b[0m \u001b[0;34m\u001b[0m\u001b[0m\n\u001b[1;32m   2888\u001b[0m     return _methods._mean(a, axis=axis, dtype=dtype,\n\u001b[0;32m-> 2889\u001b[0;31m                           out=out, **kwargs)\n\u001b[0m\u001b[1;32m   2890\u001b[0m \u001b[0;34m\u001b[0m\u001b[0m\n\u001b[1;32m   2891\u001b[0m \u001b[0;34m\u001b[0m\u001b[0m\n",
      "\u001b[0;32m/anaconda/lib/python2.7/site-packages/numpy/core/_methods.pyc\u001b[0m in \u001b[0;36m_mean\u001b[0;34m(a, axis, dtype, out, keepdims)\u001b[0m\n\u001b[1;32m     55\u001b[0m \u001b[0;34m\u001b[0m\u001b[0m\n\u001b[1;32m     56\u001b[0m     \u001b[0mis_float16_result\u001b[0m \u001b[0;34m=\u001b[0m \u001b[0mFalse\u001b[0m\u001b[0;34m\u001b[0m\u001b[0m\n\u001b[0;32m---> 57\u001b[0;31m     \u001b[0mrcount\u001b[0m \u001b[0;34m=\u001b[0m \u001b[0m_count_reduce_items\u001b[0m\u001b[0;34m(\u001b[0m\u001b[0marr\u001b[0m\u001b[0;34m,\u001b[0m \u001b[0maxis\u001b[0m\u001b[0;34m)\u001b[0m\u001b[0;34m\u001b[0m\u001b[0m\n\u001b[0m\u001b[1;32m     58\u001b[0m     \u001b[0;31m# Make this warning show up first\u001b[0m\u001b[0;34m\u001b[0m\u001b[0;34m\u001b[0m\u001b[0m\n\u001b[1;32m     59\u001b[0m     \u001b[0;32mif\u001b[0m \u001b[0mrcount\u001b[0m \u001b[0;34m==\u001b[0m \u001b[0;36m0\u001b[0m\u001b[0;34m:\u001b[0m\u001b[0;34m\u001b[0m\u001b[0m\n",
      "\u001b[0;32m/anaconda/lib/python2.7/site-packages/numpy/core/_methods.pyc\u001b[0m in \u001b[0;36m_count_reduce_items\u001b[0;34m(arr, axis)\u001b[0m\n\u001b[1;32m     48\u001b[0m     \u001b[0mitems\u001b[0m \u001b[0;34m=\u001b[0m \u001b[0;36m1\u001b[0m\u001b[0;34m\u001b[0m\u001b[0m\n\u001b[1;32m     49\u001b[0m     \u001b[0;32mfor\u001b[0m \u001b[0max\u001b[0m \u001b[0;32min\u001b[0m \u001b[0maxis\u001b[0m\u001b[0;34m:\u001b[0m\u001b[0;34m\u001b[0m\u001b[0m\n\u001b[0;32m---> 50\u001b[0;31m         \u001b[0mitems\u001b[0m \u001b[0;34m*=\u001b[0m \u001b[0marr\u001b[0m\u001b[0;34m.\u001b[0m\u001b[0mshape\u001b[0m\u001b[0;34m[\u001b[0m\u001b[0max\u001b[0m\u001b[0;34m]\u001b[0m\u001b[0;34m\u001b[0m\u001b[0m\n\u001b[0m\u001b[1;32m     51\u001b[0m     \u001b[0;32mreturn\u001b[0m \u001b[0mitems\u001b[0m\u001b[0;34m\u001b[0m\u001b[0m\n\u001b[1;32m     52\u001b[0m \u001b[0;34m\u001b[0m\u001b[0m\n",
      "\u001b[0;31mIndexError\u001b[0m: tuple index out of range"
     ]
    }
   ],
   "source": [
    "np.mean(data, axis=1, dtype=float)"
   ]
  },
  {
   "cell_type": "code",
   "execution_count": null,
   "metadata": {
    "collapsed": true
   },
   "outputs": [],
   "source": []
  }
 ],
 "metadata": {
  "kernelspec": {
   "display_name": "Python 2",
   "language": "python",
   "name": "python2"
  },
  "language_info": {
   "codemirror_mode": {
    "name": "ipython",
    "version": 2
   },
   "file_extension": ".py",
   "mimetype": "text/x-python",
   "name": "python",
   "nbconvert_exporter": "python",
   "pygments_lexer": "ipython2",
   "version": "2.7.13"
  }
 },
 "nbformat": 4,
 "nbformat_minor": 2
}
