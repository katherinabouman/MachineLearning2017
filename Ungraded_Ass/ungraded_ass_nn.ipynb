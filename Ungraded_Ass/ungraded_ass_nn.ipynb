{
 "cells": [
  {
   "cell_type": "markdown",
   "metadata": {},
   "source": [
    "# AUC ML LabExercise - Neural Networks\n",
    "Ungraded exercise, deadline Friday 3 November, 23:59.\n"
   ]
  },
  {
   "cell_type": "code",
   "execution_count": 1,
   "metadata": {},
   "outputs": [
    {
     "name": "stdout",
     "output_type": "stream",
     "text": [
      "Populating the interactive namespace from numpy and matplotlib\n"
     ]
    }
   ],
   "source": [
    "%pylab inline"
   ]
  },
  {
   "cell_type": "markdown",
   "metadata": {},
   "source": [
    "To use the Neural Networks package you first need to install the scikit-neuralnetwork. Install it through your Anaconda Navigator to avoid version mismatches. You can find the documentation here: \n",
    "http://scikit-learn.org/stable/modules/neural_networks_supervised.html"
   ]
  },
  {
   "cell_type": "code",
   "execution_count": 6,
   "metadata": {
    "collapsed": true
   },
   "outputs": [],
   "source": [
    "#First we import all the modules that you need for this exrecise\n",
    "from sklearn import datasets # to load the dataset\n",
    "from sklearn.preprocessing import StandardScaler # to normalize data (NN is very sensitive to this!)\n",
    "from sklearn.model_selection import train_test_split #to split in train and test set\n",
    "from sklearn.linear_model import LogisticRegression #logistic regression classifier\n",
    "from sklearn.neural_network import MLPClassifier # neural network classifier\n",
    "from sklearn.model_selection import cross_val_score #BONUS: to tune parameters using cross-validation\n"
   ]
  },
  {
   "cell_type": "code",
   "execution_count": 9,
   "metadata": {},
   "outputs": [
    {
     "name": "stdout",
     "output_type": "stream",
     "text": [
      "(0.93999999999999995, 0.97999999999999998)\n"
     ]
    }
   ],
   "source": [
    "#Step 1: Load Iris dataset.\n",
    "iris = datasets.load_iris()\n",
    "\n",
    "#Step 2: Save the features (data) and the labels (target) in separate variables.\n",
    "data = iris.data\n",
    "labels = iris.target\n",
    "\n",
    "#Step 3: Normalize your data. Do it 'by hand' using a for-loop or use the StandardScaler() function.\n",
    "scaler = StandardScaler()\n",
    "scaler.fit(data)\n",
    "scaler.mean_\n",
    "data_new = scaler.transform(data)\n",
    "\n",
    "#Step 4: Split the dataset in train and test sets. \n",
    "#You can either do it 'by hand' or use the train_test_split() function.\n",
    "data_train, data_test, labels_train, labels_test = train_test_split(data_new, labels, test_size = 0.33)\n",
    "\n",
    "#Step 5: Load logistic regression.\n",
    "# Study in the documentation all the arguments that the function takes as input and returns as output.\n",
    "# Choose some initial values to start with and experiment with them after you get to Step 8.\n",
    "c1 = LogisticRegression(max_iter = 200)\n",
    "\n",
    "#Step 6: Load NN Classifer\n",
    "# Study in the documentation all the arguments that the function takes as input and returns as output.\n",
    "# Choose some initial values to start with and experiment with them after you get to Step 8.\n",
    "c2 = MLPClassifier(max_iter=1000, alpha=0.01)\n",
    "\n",
    "# Step 7: Training\n",
    "# Train both classifier, uising fit() function.\n",
    "c1_fitted = c1.fit(data_train, labels_train)\n",
    "c2_fitted = c2.fit(data_train, labels_train)\n",
    "\n",
    "# Step 8: Testing/Prediction\n",
    "# Print the score for both classifiers on the test set, using score() function.\n",
    "c1_score = c1.score(data_test, labels_test)\n",
    "c2_score = c2.score(data_test, labels_test)\n",
    "print(c1_score, c2_score)\n",
    "\n",
    "# BONUS Step 9: Look at your cross validation error \n",
    "# and discover how to tune your NN parameters with cross validation\n",
    "# Print the scores and also print the mean (accuracy) and std (95% confidence interval) of your scores\n"
   ]
  }
 ],
 "metadata": {
  "kernelspec": {
   "display_name": "Python 2",
   "language": "python",
   "name": "python2"
  },
  "language_info": {
   "codemirror_mode": {
    "name": "ipython",
    "version": 2
   },
   "file_extension": ".py",
   "mimetype": "text/x-python",
   "name": "python",
   "nbconvert_exporter": "python",
   "pygments_lexer": "ipython2",
   "version": "2.7.13"
  }
 },
 "nbformat": 4,
 "nbformat_minor": 2
}
