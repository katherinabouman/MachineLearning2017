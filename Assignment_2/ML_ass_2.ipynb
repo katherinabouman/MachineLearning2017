{
 "cells": [
  {
   "cell_type": "markdown",
   "metadata": {},
   "source": [
    "# Graded Lab Assignment 2: Evaluate classifiers (10 points)\n",
    "\n",
    "Student name: Katja Bouman\n",
    " \n",
    "In this assignment you will optimize and compare the perfomance of a parametric (logistic regression) and non-parametric (k-nearest neighbours) classifier on the MNIST dataset.\n",
    "\n",
    "Publish your notebook (ipynb file) to your Machine Learning repository on Github ON TIME. We will check the last commit on the day of the deadline.  \n",
    "\n",
    "### Deadline Friday, November 17, 23:59.\n",
    "\n",
    "This notebook consists of three parts: design, implementation, results & analysis. \n",
    "We provide you with the design of the experiment and you have to implement it and analyse the results.\n",
    "\n",
    "### Criteria used for grading\n",
    "* Explain and analyse all results.\n",
    "* Make your notebook easy to read. When you are finished take your time to review it!\n",
    "* You do not want to repeat the same chunks of code multiply times. If your need to do so, write a function. \n",
    "* The implementation part of this assignment needs careful design before you start coding. You could start by writing pseudocode.\n",
    "* In this exercise the insights are important. Do not hide them somewhere in the comments in the implementation, but put them in the Analysis part\n",
    "* Take care that all the figures and tables are well labeled and numbered so that you can easily refer to them.\n",
    "* A plot should have a title and axes labels.\n",
    "* You may find that not everything is 100% specified in this assignment. That is correct! Like in real life you probably have to make some choices. Motivate your choices.\n"
   ]
  },
  {
   "cell_type": "markdown",
   "metadata": {},
   "source": [
    "### Grading points distribution\n",
    "\n",
    "* Implementation 5 points\n",
    "* Results and analysis 5 points"
   ]
  },
  {
   "cell_type": "markdown",
   "metadata": {},
   "source": [
    "## Design of the experiment"
   ]
  },
  {
   "cell_type": "markdown",
   "metadata": {},
   "source": [
    "You do not have to keep the order of this design and are allowed to alter it if you are confident.\n",
    "* Import all necessary modules. Try to use as much of the available functions as possible. \n",
    "* Use the provided train and test set of MNIST dataset.\n",
    "* Pre-process data eg. normalize/standardize, reformat, etc.           \n",
    "  Do whatever you think is necessary and motivate your choices.\n",
    "* (1) Train logistic regression and k-nn using default settings.\n",
    "* Use 10-fold cross validation for each classifier to optimize the performance for one parameter: \n",
    "    * consult the documentation on how cross validation works in sklearn (important functions:             cross_val_score(), GridSearchCV()).\n",
    "    * Optimize k for k-nn,\n",
    "    * for logistic regression focus on the regularization parameter,\n",
    "* (2) Train logistic regression and k-nn using optimized parameters.\n",
    "* Show performance on the cross-validation set for (1) and (2) for both classifiers: \n",
    "    * report the average cross validation error rates (alternatively, the average accuracies - it's up to you) and standard deviation,\n",
    "    * plot the average cross valildation errors (or accuracies) for different values of the parameter that you tuned. \n",
    "* Compare performance on the test set for two classifiers:\n",
    "    * produce the classification report for both classifiers, consisting of precision, recall, f1-score. Explain and analyse the results.\n",
    "    * print confusion matrix for both classifiers and compare whether they missclassify the same  classes. Explain and analyse the results.\n",
    "* Discuss your results.\n",
    "* BONUS: only continue with this part if you are confident that your implemention is complete \n",
    "    * tune more parameters of logistic regression\n",
    "    * add additional classifiers (NN, Naive Bayes, decision tree), \n",
    "    * analyse additional dataset (ex. Iris dataset)"
   ]
  },
  {
   "cell_type": "markdown",
   "metadata": {},
   "source": [
    "## Implementation of the experiment"
   ]
  },
  {
   "cell_type": "code",
   "execution_count": 13,
   "metadata": {},
   "outputs": [
    {
     "name": "stdout",
     "output_type": "stream",
     "text": [
      "Populating the interactive namespace from numpy and matplotlib\n"
     ]
    },
    {
     "name": "stderr",
     "output_type": "stream",
     "text": [
      "/anaconda/lib/python2.7/site-packages/IPython/core/magics/pylab.py:161: UserWarning: pylab import has clobbered these variables: ['clf']\n",
      "`%matplotlib` prevents importing * from pylab and numpy\n",
      "  \"\\n`%matplotlib` prevents importing * from pylab and numpy\"\n"
     ]
    }
   ],
   "source": [
    "%pylab inline"
   ]
  },
  {
   "cell_type": "code",
   "execution_count": 14,
   "metadata": {},
   "outputs": [],
   "source": [
    "import numpy\n",
    "from sklearn.datasets import load_digits\n",
    "from sklearn import svm\n",
    "from sklearn.model_selection import train_test_split #to split in train and test set\n",
    "from sklearn.model_selection import cross_val_score\n",
    "from sklearn.neighbors import KNeighborsClassifier\n",
    "from sklearn.grid_search import GridSearchCV\n",
    "from sklearn.preprocessing import StandardScaler\n",
    "from sklearn.linear_model import LogisticRegression\n",
    "from sklearn.metrics import classification_report \n",
    "from sklearn.metrics import confusion_matrix\n"
   ]
  },
  {
   "cell_type": "markdown",
   "metadata": {},
   "source": [
    "## Important note: \n",
    "    I used python 2 ! So some things might go differently if you run my code in python 3 ..."
   ]
  },
  {
   "cell_type": "code",
   "execution_count": 42,
   "metadata": {
    "collapsed": true
   },
   "outputs": [],
   "source": [
    "# load mnist dataset \n",
    "digits = load_digits()\n"
   ]
  },
  {
   "cell_type": "code",
   "execution_count": 16,
   "metadata": {},
   "outputs": [],
   "source": [
    "# split in train and test set\n",
    "X_train = reshape(digits.images[:1500],(1500,64))\n",
    "X_test = reshape(digits.images[1500:],(297,64))\n",
    "y_train = digits.target[:1500]\n",
    "y_test = digits.target[1500:]"
   ]
  },
  {
   "cell_type": "code",
   "execution_count": 17,
   "metadata": {
    "collapsed": true
   },
   "outputs": [],
   "source": [
    "# (1) Train logistic regression and k-nn using default settings\n",
    "\n",
    "#Pre-process data eg. normalize/standardize\n",
    "scaler = StandardScaler()\n",
    "X_train = scaler.fit_transform(X_train)\n",
    "X_test = scaler.fit_transform(X_test)\n",
    "\n",
    "# Logistic Regression\n",
    "LR = LogisticRegression(max_iter = 200)\n",
    "\n",
    "#k-nn with default setting n=5\n",
    "KNN = KNeighborsClassifier()\n",
    "\n",
    "# Training\n",
    "# Train both classifiers, uising fit() function.\n",
    "LR_fitted = LR.fit(X_train, y_train)\n",
    "KNN_fitted = KNN.fit(X_train, y_train) \n"
   ]
  },
  {
   "cell_type": "code",
   "execution_count": 18,
   "metadata": {},
   "outputs": [
    {
     "name": "stdout",
     "output_type": "stream",
     "text": [
      "('Best score for training data:', 0.9613333333333334)\n",
      "('Best k:', 3)\n",
      "('Best score for training data:', 0.944)\n",
      "('Best parameter:', 0.92)\n"
     ]
    }
   ],
   "source": [
    "#Use 10-fold cross validation for each classifier to optimize the performance for one parameter\n",
    "\n",
    "#For the knn finding the optimal k\n",
    "#Try k 0 to 6\n",
    "parameters = {'n_neighbors': [1, 2, 3, 4, 5, 6]}\n",
    "\n",
    "#Use the KNN from before with the the default k\n",
    "#Now use GridSearch to try all 20 k's, cv = 10 because we do 10-fold cross validation\n",
    "clfK = GridSearchCV(KNN, parameters,cv=10)\n",
    "\n",
    "#Now optimilize to find the best preforming k\n",
    "clfK.fit(X_train, y_train)\n",
    "\n",
    "#Print the best score and the optimal k\n",
    "print('Best score for training data:', clfK.best_score_) \n",
    "print('Best k:',clfK.best_estimator_.n_neighbors) \n",
    "\n",
    "\n",
    "#Now for the logistic regression\n",
    "#Set a range of parameters that you will try\n",
    "#parameters = {'C': [0.001, 0.01, 0.1, 1, 10, 100, 1000] } this gave optimal = 1.0 so I specified it even more to:\n",
    "#parameters = {'C': [0.97, 0.98, 0.99, 1.0, 1.1] } this gave optimal = 0.97 so I specified it even more to:\n",
    "parameters = {'C': [0.92, 0.93, 0.94, 0.95, 0.96, 0.97]}\n",
    "\n",
    "#Use the LR from before with the default logistic regression with 200 iterations\n",
    "#Now use GridSearch to try all the parameters\n",
    "clf = GridSearchCV(LR, parameters, cv=10)\n",
    "\n",
    "#Now optimilize to find the best preforming parameter\n",
    "clf.fit(X_train, y_train)\n",
    "\n",
    "#Print the best score and the optimal k\n",
    "print('Best score for training data:', clf.best_score_) \n",
    "print('Best parameter:',clf.best_estimator_.C) "
   ]
  },
  {
   "cell_type": "code",
   "execution_count": 20,
   "metadata": {
    "collapsed": true
   },
   "outputs": [],
   "source": [
    "#So now we will train logistic regression and k-nn using their optimized parameters.\n",
    "#The optimal value for knn and logistic regression on this data have shown to be 3 and 0.94 repectivly. \n",
    "\n",
    "# Logistic Regression\n",
    "LR_2 = LogisticRegression(C=0.92, max_iter = 200)\n",
    "\n",
    "#k-nn with default setting n=5\n",
    "KNN_2 = KNeighborsClassifier(n_neighbors=3)\n",
    "\n",
    "# Training\n",
    "# Train both classifiers, uising fit() function.\n",
    "LR_2_fitted = LR_2.fit(X_train, y_train)\n",
    "KNN_2_fitted = KNN_2.fit(X_train, y_train) "
   ]
  },
  {
   "cell_type": "code",
   "execution_count": 41,
   "metadata": {},
   "outputs": [
    {
     "name": "stdout",
     "output_type": "stream",
     "text": [
      "Logistic regression default accuracy and standard deviation: 0.924023894863 0.0159971232403 \n",
      "\n",
      "Knn default accuracy and standard deviation: 0.928701655573 0.0237358774393 \n",
      "\n",
      "Logistic regression optimal accuracy and standard deviation: 0.923357228196 0.0169163244827 \n",
      "\n",
      "Knn optimal accuracy and standard deviation: 0.93675499232 0.0179780612783 \n",
      "\n"
     ]
    }
   ],
   "source": [
    "# Now show performance on the cross-validation set for (1) and (2) for both classifiers\n",
    "# report the average cross validation error rates and standard deviation\n",
    "\n",
    "#Classifiers is a list of the different classifiers\n",
    "Classifiers = [LR, KNN, LR_2, KNN_2]\n",
    "\n",
    "#accuracy is a list with all the average cross validation error rates of the different classifiers\n",
    "accuracy = []\n",
    "#stdv is a list with all the standard deviations of the different classifiers\n",
    "stdv = []\n",
    "\n",
    "for i in range(len(Classifiers)):\n",
    "    score = cross_val_score(Classifiers[i], X_train, y_train)\n",
    "    accuracy.append(score.mean())\n",
    "    stdv.append(score.std())\n",
    "    \n",
    "    \n",
    "# (1) Default values logistic regression\n",
    "print\"Logistic regression default accuracy and standard deviation:\", accuracy[0], stdv[0], \"\\n\"\n",
    "# (1) Default values KNN\n",
    "print \"Knn default accuracy and standard deviation:\", accuracy[1], stdv[1], \"\\n\"\n",
    "# (2) Optimal values logistic regression\n",
    "print \"Logistic regression optimal accuracy and standard deviation:\", accuracy[2], stdv[2], \"\\n\"\n",
    "# (2) Optimal values KNN\n",
    "print \"Knn optimal accuracy and standard deviation:\", accuracy[3], stdv[3], \"\\n\""
   ]
  },
  {
   "cell_type": "code",
   "execution_count": 46,
   "metadata": {},
   "outputs": [
    {
     "data": {
      "text/plain": [
       "<matplotlib.text.Text at 0x11c81cc10>"
      ]
     },
     "execution_count": 46,
     "metadata": {},
     "output_type": "execute_result"
    },
    {
     "data": {
      "image/png": "[encoded data removed]",
      "text/plain": [
       "<matplotlib.figure.Figure at 0x11c902a10>"
      ]
     },
     "metadata": {},
     "output_type": "display_data"
    },
    {
     "data": {
      "image/png": "[encoded data removed]",
      "text/plain": [
       "<matplotlib.figure.Figure at 0x11c300a50>"
      ]
     },
     "metadata": {},
     "output_type": "display_data"
    }
   ],
   "source": [
    "#plot the average cross valildation errors (or accuracies) for different values of the parameter that you tuned.\n",
    "#So not just the optimal parameter, but also other values to compare the difference in preformance\n",
    "\n",
    "parameter_values = [0.5, 1.0, 1.5, 2.0, 2.5, 3.0, 3.5, 4.0, 4.5, 5.0]\n",
    "cv_values = []\n",
    "for i in range(len(parameter_values)):\n",
    "    LR_3 = LogisticRegression(C=parameter_values[i], max_iter = 200)\n",
    "    cv_score_3 = cross_val_score(LR_3, X_train, y_train)\n",
    "    cv_values.append(mean(cv_score_3))\n",
    "    i += 1\n",
    "\n",
    "    \n",
    "k_values = [1, 2, 3, 4, 5, 6, 7, 8 ,9]\n",
    "cvk_values = []\n",
    "for i in range(len(k_values)):\n",
    "    KNN_3 = KNeighborsClassifier(n_neighbors=k_values[i])\n",
    "    cv_score_4 = cross_val_score(KNN_3, X_train, y_train)\n",
    "    cvk_values.append(np.mean(cv_score_4))\n",
    "    i += 1\n",
    "    \n",
    "plt.figure(1)\n",
    "plt.title('Logistic Regression')\n",
    "plt.ylabel('cross validation score')\n",
    "plt.xlabel('parameter values')\n",
    "plt.plot(parameter_values, cv_values, 'ro')\n",
    "\n",
    "\n",
    "plt.figure(2)\n",
    "plt.ylabel('cross validation score')\n",
    "plt.xlabel('parameter values')\n",
    "plt.plot(k_values, cvk_values, 'ro')\n",
    "plt.title('Knn Classification')\n"
   ]
  },
  {
   "cell_type": "code",
   "execution_count": 54,
   "metadata": {},
   "outputs": [
    {
     "name": "stdout",
     "output_type": "stream",
     "text": [
      "Logistic regression optimal classification report: \n",
      "\n",
      "             precision    recall  f1-score   support\n",
      "\n",
      "          0       0.96      0.93      0.94        27\n",
      "          1       0.90      0.87      0.89        31\n",
      "          2       0.96      0.96      0.96        27\n",
      "          3       0.77      0.67      0.71        30\n",
      "          4       0.97      0.91      0.94        33\n",
      "          5       0.88      1.00      0.94        30\n",
      "          6       0.94      1.00      0.97        30\n",
      "          7       0.88      0.93      0.90        30\n",
      "          8       0.78      0.89      0.83        28\n",
      "          9       0.89      0.77      0.83        31\n",
      "\n",
      "avg / total       0.89      0.89      0.89       297\n",
      "\n",
      "Knn optimal classification report: \n",
      "\n",
      "             precision    recall  f1-score   support\n",
      "\n",
      "          0       1.00      1.00      1.00        27\n",
      "          1       0.94      1.00      0.97        31\n",
      "          2       0.89      0.89      0.89        27\n",
      "          3       0.92      0.80      0.86        30\n",
      "          4       1.00      0.85      0.92        33\n",
      "          5       0.91      1.00      0.95        30\n",
      "          6       0.91      1.00      0.95        30\n",
      "          7       0.91      0.97      0.94        30\n",
      "          8       0.93      0.89      0.91        28\n",
      "          9       0.87      0.87      0.87        31\n",
      "\n",
      "avg / total       0.93      0.93      0.92       297\n",
      "\n"
     ]
    }
   ],
   "source": [
    "# Compare performance on the test set for two classifiers\n",
    "# Use the function classification_report() from the sklearn metrics library \n",
    "#true values:\n",
    "\n",
    "# For the optimized logistic regression:\n",
    "# true values are:\n",
    "# y_test\n",
    "# predicted values are:\n",
    "# LR_2.predict(X_test)\n",
    "\n",
    "print \"Logistic regression optimal classification report:\", \"\\n\"\n",
    "print(classification_report(y_test, LR_2.predict(X_test)))\n",
    "\n",
    "# For the optimized knn:\n",
    "# true values are:\n",
    "# y_test\n",
    "# predicted values are:\n",
    "# KNN_2.predict(X_test)\n",
    "\n",
    "print \"Knn optimal classification report:\", \"\\n\"\n",
    "print(classification_report(y_test, KNN_2.predict(X_test)))\n"
   ]
  },
  {
   "cell_type": "code",
   "execution_count": 56,
   "metadata": {},
   "outputs": [
    {
     "name": "stdout",
     "output_type": "stream",
     "text": [
      "Confusion matrix of optimal Logistic regression:\n",
      " \n",
      "[[25  0  0  0  0  0  2  0  0  0]\n",
      " [ 0 27  0  2  0  0  0  0  2  0]\n",
      " [ 0  0 26  1  0  0  0  0  0  0]\n",
      " [ 0  1  1 20  0  2  0  3  3  0]\n",
      " [ 0  0  0  0 30  0  0  0  0  3]\n",
      " [ 0  0  0  0  0 30  0  0  0  0]\n",
      " [ 0  0  0  0  0  0 30  0  0  0]\n",
      " [ 0  0  0  0  1  0  0 28  1  0]\n",
      " [ 0  2  0  1  0  0  0  0 25  0]\n",
      " [ 1  0  0  2  0  2  0  1  1 24]]\n",
      " \n",
      "Confusion matrix of optimal Knn:\n",
      " \n",
      "[[27  0  0  0  0  0  0  0  0  0]\n",
      " [ 0 31  0  0  0  0  0  0  0  0]\n",
      " [ 0  0 24  0  0  0  3  0  0  0]\n",
      " [ 0  0  2 24  0  1  0  1  1  1]\n",
      " [ 0  1  0  0 28  0  0  1  1  2]\n",
      " [ 0  0  0  0  0 30  0  0  0  0]\n",
      " [ 0  0  0  0  0  0 30  0  0  0]\n",
      " [ 0  0  1  0  0  0  0 29  0  0]\n",
      " [ 0  1  0  1  0  0  0  0 25  1]\n",
      " [ 0  0  0  1  0  2  0  1  0 27]]\n"
     ]
    }
   ],
   "source": [
    "# print confusion matrix for both classifiers and compare whether they missclassify the same classes. \n",
    "\n",
    "# For the optimized logistic regression:\n",
    "# true values are:\n",
    "# y_test\n",
    "# predicted values are:\n",
    "# LR_2.predict(X_test)\n",
    "print(\"Confusion matrix of optimal Logistic regression:\")\n",
    "print(\" \")\n",
    "print(confusion_matrix(y_test, LR_2.predict(X_test)))\n",
    "print(\" \")\n",
    "\n",
    "# For the optimized knn:\n",
    "# true values are:\n",
    "# y_test\n",
    "# predicted values are:\n",
    "# KNN_2.predict(X_test)\n",
    "print(\"Confusion matrix of optimal Knn:\")\n",
    "print(\" \")\n",
    "print(confusion_matrix(y_test, KNN_2.predict(X_test)))"
   ]
  },
  {
   "cell_type": "markdown",
   "metadata": {},
   "source": [
    "## Results and analysis of the experiment"
   ]
  },
  {
   "cell_type": "markdown",
   "metadata": {
    "collapsed": true
   },
   "source": [
    "### Classification report\n",
    "\n",
    "    The classification report shows for each class (in our data digits) of the data the precision, recall and f-score of the classifier. The precicion shows for every digit that is predicted as true for a certain class, how many of these digits is actually classified correctly. The formula of precicion is: tp / (tp + fp), where tp means true positive and fp means false positive. So a low precision rate indicates a high false positive rate, which is very undesirable.\n",
    "    Recall identifies how many of the digits that actually belong to a certain class, are also classified true for that class. The formula is: tp/(tp + fn), where fn means false negative. In this case the number of false negative casses has influence on the rate. \n",
    "    F-score is the harmonic mean of the precision and the recall, with the complex formula: F-score = 2 * (PR / (P + R)). Where P stands for precision and R for recall. \n",
    "        For most real-life machine learning applications, a false positive is really bad. In for example the research that classified whether ex-verdict could return to the society. A false positive would result in the ex-verdict to return to society and again commit a crime. Thus the main goal for a classifier is to maximize true positive and minimize false positive.\n",
    "         However in my classification reports the scores of the precision and recall rates are the same for each specific classifier. You can however compare the two classifiers with each other and conclude that the k-nearest neighbour classifier has higher scores in all of the cases and thus has less false positives and less false negative.   \n",
    "            You can also investigate the behaviour of the classifiers per class. For the logistic regression classifier you can see that it preformed the worst on digit 3. For this digit both precision and recall were relatively low. The Knn classifier preformed worst on digit 2. \n",
    "         For both classifiers, Digit 4 is interesting because for the precision was excellent (at least for knn), but the recall was low. Which means that there were no false positive (it identified zero numbers wrongly as 4's), but quite some false negative (the classifier did not identify all 4's as 4's) And for digit 5 it was the other way around. This is also very clearly visible in the confusion matrixes which I will discuss next. \n",
    "    \n",
    "\n",
    "### Confusion matrix\n",
    "    \n",
    "    The confussion matrix is closely related with the classification report, however the martix gives a better insight in how the classifier classified every digit and thus gives a good view on where it went wrong. The rows represent the actual values of the digits and the columns represent the predicted value of the digits. So for example, the linear regression classifier identified 25 zero's correctly as zeros, but also falsly classified 2 zeros as 6's. The model also shows us that both classifies missclassified 3 multiple times and for a ranging number of different digits, where in contrast the logistic regression classifier missclassified for example 4 only for a 9.\n",
    "        \n",
    "        We can now use our findings from the classification report to further analyse the matrix and use these two to get a better view of our classifiers. First of all, we can see that as was also clear from the report, for logistic regression 3 has been often classified as an other digit than 3 and Knn was most often mistaken by 4. We can now also identify that 4 was most mistaken by a 9, by both classifiers, and 9 is multiple times falsly classifies as an 3 or a 5, also by both classifiers. \n",
    "        \n",
    "        The fact that our classifiers have difficulty with the same number could be an indication of a lack of those numbers in our training set. Our classifiers would then by overfitting the trainingset such that they are not preforming well on digits that are less presented in the used trainingset. The results from the confusion matrix could thus help to update our trainingset or regelize our model, to improve the preformance. \n",
    "        \n",
    "        Overall the k-nearest neigbourhood classifier preformed better than the Logistic Regression classifier. \n"
   ]
  }
 ],
 "metadata": {
  "kernelspec": {
   "display_name": "Python 2",
   "language": "python",
   "name": "python2"
  },
  "language_info": {
   "codemirror_mode": {
    "name": "ipython",
    "version": 2
   },
   "file_extension": ".py",
   "mimetype": "text/x-python",
   "name": "python",
   "nbconvert_exporter": "python",
   "pygments_lexer": "ipython2",
   "version": "2.7.13"
  }
 },
 "nbformat": 4,
 "nbformat_minor": 2
}
