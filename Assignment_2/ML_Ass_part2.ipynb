{
 "cells": [
  {
   "cell_type": "markdown",
   "metadata": {},
   "source": [
    "## Written Assignment graphs"
   ]
  },
  {
   "cell_type": "code",
   "execution_count": 17,
   "metadata": {
    "collapsed": true
   },
   "outputs": [],
   "source": [
    "import numpy as np\n",
    "import matplotlib\n",
    "from matplotlib import pyplot as plt\n",
    "import matplotlib.patches as mpatches\n",
    "from sklearn.neighbors import KNeighborsClassifier\n",
    "from sklearn.tree import DecisionTreeClassifier\n",
    "from sklearn.linear_model import LogisticRegression"
   ]
  },
  {
   "cell_type": "code",
   "execution_count": 3,
   "metadata": {},
   "outputs": [
    {
     "data": {
      "image/png": "[encoded data removed]",
      "text/plain": [
       "<matplotlib.figure.Figure at 0x11899cd90>"
      ]
     },
     "metadata": {},
     "output_type": "display_data"
    }
   ],
   "source": [
    "x1 = [1, 1, 2, 3, 4, 4, 4, 7, 8, 8, 8]  # x\n",
    "x2 = [3, 6, 6, 5, 1, 3, 6, 7, 6, 7, 3]  # y\n",
    "y = [0, 0, 1, 1, 0, 0, 1, 1, 1, 0, 0]  # class\n",
    "\n",
    "for i in range(len(y)):\n",
    "    if y[i]==0:\n",
    "        plt.scatter(x1[i], x2[i], marker='+', c= 'b')\n",
    "    if y[i]==1:\n",
    "        plt.scatter(x1[i], x2[i], marker='o', c = 'r')\n",
    "\n",
    "\n",
    "\n",
    "\n",
    "red_patch = mpatches.Patch(color='red', label='The red dots')\n",
    "blue_patch = mpatches.Patch(color='blue', label='The blue crosses')\n",
    "plt.legend(handles=[red_patch, blue_patch],loc='lower right')       \n",
    "plt.ylabel('x2')\n",
    "plt.xlabel('x1')\n",
    "plt.show()\n"
   ]
  },
  {
   "cell_type": "code",
   "execution_count": 4,
   "metadata": {
    "collapsed": true
   },
   "outputs": [],
   "source": [
    "#Draw the class boundaries that would be found by (1) \n",
    "#Decision Trees,(2) 1-nearest neighbor, (3) \n",
    "#plain logistic regression and (4) logistic regression \n",
    "#with quadratic terms.\n"
   ]
  },
  {
   "cell_type": "code",
   "execution_count": 15,
   "metadata": {
    "scrolled": false
   },
   "outputs": [
    {
     "data": {
      "image/png": "[encoded data removed]",
      "text/plain": [
       "<matplotlib.figure.Figure at 0x11fb9d890>"
      ]
     },
     "metadata": {},
     "output_type": "display_data"
    }
   ],
   "source": [
    "#knn plot decision boundary\n",
    "X = np.column_stack((x1, x2))\n",
    "knn = KNeighborsClassifier(n_neighbors=1)\n",
    "h = .01 # step size in the mesh\n",
    "\n",
    "# fit the data.\n",
    "knn.fit(X, y)\n",
    "\n",
    "# Plot the decision boundary. For that, we will asign a color to each\n",
    "# point in the mesh [x_min, m_max]x[y_min, y_max].\n",
    "x_min, x_max = X[:,0].min() - .5, X[:,0].max() + .5\n",
    "y_min, y_max = X[:,1].min() - .5, X[:,1].max() + .5\n",
    "xx, yy = np.meshgrid(np.arange(x_min, x_max, h), np.arange(y_min, y_max, h))\n",
    "Z = knn.predict(np.c_[xx.ravel(), yy.ravel()])\n",
    "\n",
    "# Use colors to show the decision boundary\n",
    "Z = Z.reshape(xx.shape)\n",
    "plt.figure(1, figsize=(7, 6))\n",
    "plt.set_cmap(plt.cm.Paired)\n",
    "plt.pcolormesh(xx, yy, Z)\n",
    "\n",
    "#Classify the points if it class zero it is a blue cross and class one is a red dot\n",
    "for i in range(len(y)):\n",
    "    if y[i]==0:\n",
    "        plt.scatter(x1[i], x2[i], marker='+', c= 'b')\n",
    "    if y[i]==1:\n",
    "        plt.scatter(x1[i], x2[i], marker='o', c = 'r')\n",
    "\n",
    "\n",
    "red_patch = mpatches.Patch(color='red', label='The red dots')\n",
    "blue_patch = mpatches.Patch(color='blue', label='The blue crosses')\n",
    "plt.legend(handles=[red_patch, blue_patch],loc='lower right')       \n",
    "plt.ylabel('x2')\n",
    "plt.xlabel('x1')\n",
    "plt.show()\n"
   ]
  },
  {
   "cell_type": "code",
   "execution_count": 16,
   "metadata": {},
   "outputs": [
    {
     "data": {
      "image/png": "[encoded data removed]",
      "text/plain": [
       "<matplotlib.figure.Figure at 0x11bd13dd0>"
      ]
     },
     "metadata": {},
     "output_type": "display_data"
    }
   ],
   "source": [
    "#Decision tree decision boundary\n",
    "X = np.column_stack((x1, x2))\n",
    "DT = DecisionTreeClassifier(max_depth=4)\n",
    "h = .01 # step size in the mesh\n",
    "\n",
    "# fit the data.\n",
    "DT.fit(X, y)\n",
    "\n",
    "# Plot the decision boundary. For that, we will asign a color to each\n",
    "# point in the mesh [x_min, m_max]x[y_min, y_max].\n",
    "x_min, x_max = X[:,0].min() - .5, X[:,0].max() + .5\n",
    "y_min, y_max = X[:,1].min() - .5, X[:,1].max() + .5\n",
    "xx, yy = np.meshgrid(np.arange(x_min, x_max, h), np.arange(y_min, y_max, h))\n",
    "Z = DT.predict(np.c_[xx.ravel(), yy.ravel()])\n",
    "\n",
    "# Use colors to show the decision boundary\n",
    "Z = Z.reshape(xx.shape)\n",
    "plt.figure(1, figsize=(7, 6))\n",
    "plt.set_cmap(plt.cm.Paired)\n",
    "plt.pcolormesh(xx, yy, Z)\n",
    "\n",
    "#Classify the points if it class zero it is a blue cross and class one is a red dot\n",
    "for i in range(len(y)):\n",
    "    if y[i]==0:\n",
    "        plt.scatter(x1[i], x2[i], marker='+', c= 'b')\n",
    "    if y[i]==1:\n",
    "        plt.scatter(x1[i], x2[i], marker='o', c = 'r')\n",
    "\n",
    "\n",
    "red_patch = mpatches.Patch(color='red', label='The red dots')\n",
    "blue_patch = mpatches.Patch(color='blue', label='The blue crosses')\n",
    "plt.legend(handles=[red_patch, blue_patch],loc='lower right')       \n",
    "plt.ylabel('x2')\n",
    "plt.xlabel('x1')\n",
    "plt.show()\n",
    "\n"
   ]
  },
  {
   "cell_type": "code",
   "execution_count": 18,
   "metadata": {},
   "outputs": [
    {
     "data": {
      "image/png": "[encoded data removed]",
      "text/plain": [
       "<matplotlib.figure.Figure at 0x11f6d3110>"
      ]
     },
     "metadata": {},
     "output_type": "display_data"
    }
   ],
   "source": [
    "#Logistic regression decision boundary\n",
    "X = np.column_stack((x1, x2))\n",
    "LR = LogisticRegression(max_iter = 200)\n",
    "h = .01 # step size in the mesh\n",
    "\n",
    "# fit the data.\n",
    "LR.fit(X, y)\n",
    "\n",
    "# Plot the decision boundary. For that, we will asign a color to each\n",
    "# point in the mesh [x_min, m_max]x[y_min, y_max].\n",
    "x_min, x_max = X[:,0].min() - .5, X[:,0].max() + .5\n",
    "y_min, y_max = X[:,1].min() - .5, X[:,1].max() + .5\n",
    "xx, yy = np.meshgrid(np.arange(x_min, x_max, h), np.arange(y_min, y_max, h))\n",
    "Z = LR.predict(np.c_[xx.ravel(), yy.ravel()])\n",
    "\n",
    "# Use colors to show the decision boundary\n",
    "Z = Z.reshape(xx.shape)\n",
    "plt.figure(1, figsize=(7, 6))\n",
    "plt.set_cmap(plt.cm.Paired)\n",
    "plt.pcolormesh(xx, yy, Z)\n",
    "\n",
    "#Classify the points if it class zero it is a blue cross and class one is a red dot\n",
    "for i in range(len(y)):\n",
    "    if y[i]==0:\n",
    "        plt.scatter(x1[i], x2[i], marker='+', c= 'b')\n",
    "    if y[i]==1:\n",
    "        plt.scatter(x1[i], x2[i], marker='o', c = 'r')\n",
    "\n",
    "\n",
    "red_patch = mpatches.Patch(color='red', label='The red dots')\n",
    "blue_patch = mpatches.Patch(color='blue', label='The blue crosses')\n",
    "plt.legend(handles=[red_patch, blue_patch],loc='lower right')       \n",
    "plt.ylabel('x2')\n",
    "plt.xlabel('x1')\n",
    "plt.show()\n",
    "\n"
   ]
  },
  {
   "cell_type": "code",
   "execution_count": null,
   "metadata": {
    "collapsed": true
   },
   "outputs": [],
   "source": []
  }
 ],
 "metadata": {
  "kernelspec": {
   "display_name": "Python 2",
   "language": "python",
   "name": "python2"
  },
  "language_info": {
   "codemirror_mode": {
    "name": "ipython",
    "version": 2
   },
   "file_extension": ".py",
   "mimetype": "text/x-python",
   "name": "python",
   "nbconvert_exporter": "python",
   "pygments_lexer": "ipython2",
   "version": "2.7.13"
  }
 },
 "nbformat": 4,
 "nbformat_minor": 2
}
