{
 "cells": [
  {
   "cell_type": "markdown",
   "metadata": {
    "raw_mimetype": "text/markdown"
   },
   "source": [
    "# Graded Lab Assignment: Logistic Regression\n",
    "\n",
    "Student name : Katja Bouman \n",
    "\n",
    "Student number : 11155787\n",
    "\n",
    "In this assignment you will classify hand-written digits using logistic regression.\n",
    "\n",
    "The assignment follows Andrew Ng's explanation of Logistic Regression and (re)watching his videos could be useful (Week 3)\n",
    "\n",
    "Publish your notebook (ipynb file) to your Machine Learning repository on Github ON TIME. We will check the last commit on the day of the deadline. \n",
    "\n",
    "\n",
    "### Deadline Tuesday, October 10th, 23:59\n",
    "\n",
    "Do not hand in any other files, the Notebook should contain all your answers.\n",
    "\n",
    "The points for the assignmnet are distributed as follows:\n",
    "* The implementation\n",
    "    - prediction_function\n",
    "    - cost_function\n",
    "    - compute_gradient\n",
    "    - correct stop condition\n",
    "    - preventing overfitting\n",
    "    - systematically choosing learning rate \n",
    "    - \n",
    "    "
   ]
  },
  {
   "cell_type": "code",
   "execution_count": 1,
   "metadata": {},
   "outputs": [
    {
     "name": "stdout",
     "output_type": "stream",
     "text": [
      "Populating the interactive namespace from numpy and matplotlib\n"
     ]
    }
   ],
   "source": [
    "%pylab inline"
   ]
  },
  {
   "cell_type": "code",
   "execution_count": 2,
   "metadata": {
    "collapsed": true
   },
   "outputs": [],
   "source": [
    "import numpy as np"
   ]
  },
  {
   "cell_type": "code",
   "execution_count": 3,
   "metadata": {
    "collapsed": true
   },
   "outputs": [],
   "source": [
    "from __future__ import division"
   ]
  },
  {
   "cell_type": "markdown",
   "metadata": {},
   "source": [
    "Scikit-learn is a toolkit that has several datasets built in. You first need to install the toolkit: http://scikit-learn.org/stable/install.html\n",
    "\n",
    "The MNIST dataset that you will be using for this assignment contains images of hand-written digits that are only 8 by 8 pixels, which means the algorithm (logistic regression) should run on every computer.\n",
    "\n",
    "The code in the cell below shows how to work with the digits dataset and  how to visualize it. As you can see the numbers are not very clear in 8x8 pixels images, this means we cannot expect our logistic regression will have a very high classification score."
   ]
  },
  {
   "cell_type": "code",
   "execution_count": 4,
   "metadata": {},
   "outputs": [
    {
     "name": "stdout",
     "output_type": "stream",
     "text": [
      "The numbers shown are: \n",
      "[[0 1 2 3 4]\n",
      " [5 6 7 8 9]]\n"
     ]
    },
    {
     "data": {
      "image/png": "[encoded data removed]",
      "text/plain": [
       "<matplotlib.figure.Figure at 0x113a21950>"
      ]
     },
     "metadata": {},
     "output_type": "display_data"
    }
   ],
   "source": [
    "from sklearn.datasets import load_digits\n",
    "\n",
    "digits = load_digits(n_class=10)\n",
    "\n",
    "#Create two rows with numbers\n",
    "firstrow = np.hstack(digits.images[:5,:,:])\n",
    "secondrow = np.hstack(digits.images[5:10,:,:])\n",
    "\n",
    "plt.gray()\n",
    "plt.axis('off')\n",
    "\n",
    "#Show both rows at the same time\n",
    "plt.imshow(np.vstack((firstrow,secondrow)))\n",
    "\n",
    "print \"The numbers shown are: \\n\", np.vstack((digits.target[:5], digits.target[5:10]))"
   ]
  },
  {
   "cell_type": "markdown",
   "metadata": {},
   "source": [
    "## The implementation\n",
    "\n",
    "You have to implement the next three functions and fill in the body of the loop in order to create a correct implementation of logistic regression. Don't change the definitions of the functions and input parameters.\n",
    "\n",
    "(1) Make sure that you do not overfit by keeping track of the score on the test set and implementing a correct stop condition. \n",
    "(2) Systematically pick a learning rate alpha that makes sure the algorithm learns in a smooth and stable manner (show how you do it). \n",
    "(3) Plot how your score on the test set improves over time. My best score was about 85% correct!\n",
    "(4) Make sure to comment your code!"
   ]
  },
  {
   "cell_type": "code",
   "execution_count": 5,
   "metadata": {
    "collapsed": true
   },
   "outputs": [],
   "source": [
    "# Hypothesis function takes x and theta and returns the predicted x, using dot product because theta and x are both vectors\n",
    "def prediction_function(x,theta):\n",
    "    z = dot(theta.transpose(),x)\n",
    "    return 1 / ( 1 + exp(-z))\n",
    "    "
   ]
  },
  {
   "cell_type": "code",
   "execution_count": 6,
   "metadata": {
    "collapsed": true
   },
   "outputs": [],
   "source": [
    "# The cost function J, takes the predicted x and takes a y vector and it returns the associated costs.\n",
    "# The y is transposed such that it has the right shape for the x value\n",
    "# The minus in front is because the log cause the cost to be negative, while its nicer to show it as a positive value\n",
    "def cost_function(x_predict,y): \n",
    "    m = size(y)\n",
    "    result = (-1/m) * sum(transpose(y) * log(x_predict)+transpose((1-y)) * log(1-x_predict))\n",
    "    return result"
   ]
  },
  {
   "cell_type": "code",
   "execution_count": 7,
   "metadata": {
    "collapsed": true
   },
   "outputs": [],
   "source": [
    "# The gradient function takes the predicted x, the y vector and the x values and returns the gradient valeus; the new theta values.\n",
    "def compute_gradient(x_predict, y, x):\n",
    "    m = len(x)\n",
    "    dtheta = (outer((x_predict - y),x))/m  \n",
    " \n",
    "    return dtheta.T"
   ]
  },
  {
   "cell_type": "code",
   "execution_count": 8,
   "metadata": {},
   "outputs": [
    {
     "data": {
      "image/png": "[encoded data removed]",
      "text/plain": [
       "<matplotlib.figure.Figure at 0x10b5bb150>"
      ]
     },
     "metadata": {},
     "output_type": "display_data"
    },
    {
     "name": "stdout",
     "output_type": "stream",
     "text": [
      "89.5622895623\n"
     ]
    }
   ],
   "source": [
    "#Choose a suitable learning rate\n",
    "alpha = 0.001\n",
    "iterations = 500   \n",
    "theta = np.zeros((64,10))\n",
    "\n",
    "#Choose a suitable stopcondition\n",
    "stopcondition = 0.00005\n",
    "\n",
    "# Choose a x_test set and the right target_test\n",
    "x = np.reshape(digits.images[:1500],(1500,64))\n",
    "x_test = np.reshape(digits.images[1500:],(297,64))\n",
    "\n",
    "target = digits.target[:1500]\n",
    "target_test = digits.target[1500:]\n",
    "\n",
    "performance_array = []\n",
    "total_cost = []\n",
    "\n",
    "# Now we put everything together\n",
    "for i in range(iterations):\n",
    "    for j in range(x.shape[0]):\n",
    "        # Use the hypothesis function to create an predicted x\n",
    "        x_predict = prediction_function(x[j,:],theta)    \n",
    "            \n",
    "        # First we need a vector with only zeros, next we can set the right class equal to 1\n",
    "        y = np.zeros(10)\n",
    "        y[target[j]] = 1            \n",
    "        \n",
    "        cost = cost_function(x_predict,y)\n",
    "        # Make list of the cost at each iteration, then you can see how it changes\n",
    "        total_cost.append(cost)      \n",
    "        \n",
    "        # Gradient descent\n",
    "        gradient_value = compute_gradient(x_predict, y, x[j,:])\n",
    "           \n",
    "\n",
    "        # Update theta's using the gradient descent and the learning rate\n",
    "        theta -= alpha *gradient_value    \n",
    " \n",
    "          \n",
    "    # Now we need to keep track of how our algorithm is inproving by learning and whether it is improving it's score. \n",
    "    score = 0\n",
    "    for j in range(x_test.shape[0]):\n",
    "    # We use the test set as our input for x\n",
    "        x_predict = prediction_function(x_test[j,:].T, theta) \n",
    "    # And then compare if the values are equal to the (correct) ones in the target set \n",
    "        if argmax(x_predict) == target_test[j]:\n",
    "        # If algorithm finds the correct x, add one to your score of correct predictions\n",
    "            score += 1\n",
    "    # Now get your score in percentage (out of the whole test set what percentage did you guess right)\n",
    "    performance = (score / x_test.shape[0])*100\n",
    "    performance_array.append(performance)\n",
    "    \n",
    "    \n",
    "# Use the number of iterations as the x array for your plot           \n",
    "x_Array = range(iterations)\n",
    "\n",
    "# Now plot the percentage of correctly guessed images against the number of iterations. \n",
    "plt.plot(x_Array, performance_array)\n",
    "plt.show()\n",
    "\n",
    "#Keep track of your best performance:\n",
    "print max(performance_array)\n"
   ]
  },
  {
   "cell_type": "code",
   "execution_count": 13,
   "metadata": {},
   "outputs": [
    {
     "name": "stdout",
     "output_type": "stream",
     "text": [
      "(500, 88.88888888888889)\n",
      "(700, 88.88888888888889)\n",
      "(900, 88.55218855218855)\n"
     ]
    }
   ],
   "source": [
    "# Choose a x_test set and the right target_test\n",
    " \n",
    "alpha = 0.001\n",
    "x = np.reshape(digits.images[:1500],(1500,64))\n",
    "x_test = np.reshape(digits.images[1500:],(297,64))\n",
    "\n",
    "target = digits.target[:1500]\n",
    "target_test = digits.target[1500:]\n",
    "\n",
    "#When I wanted to find my optimal alpha I used these lines instead of \"for iterations\" and just kept iterations constant\n",
    "#iterations = 500 \n",
    "#list_alpha = [0.0001, 0.001, 0.005]\n",
    "#for alpha in list_alpha:\n",
    "\n",
    "\n",
    "list_iterations = [500, 700, 900]    \n",
    "for iterations in list_iterations:  \n",
    "    performance_array = []\n",
    "    # Now we put everything together\n",
    "    for i in range(iterations):\n",
    "        for j in range(x.shape[0]):\n",
    "            # Use the hypothesis function to create an predicted x\n",
    "            x_predict = prediction_function(x[j,:],theta)    \n",
    "\n",
    "            # First we need a vector with only zeros, next we can set the right class equal to 1\n",
    "            y = np.zeros(10)\n",
    "            y[target[j]] = 1            \n",
    "\n",
    "            cost = cost_function(x_predict,y)\n",
    "            # Make list of the cost at each iteration, then you can see how it changes\n",
    "            total_cost.append(cost)      \n",
    "\n",
    "            # Gradient descent\n",
    "            gradient_value = compute_gradient(x_predict, y, x[j,:])\n",
    "\n",
    "\n",
    "            # Update theta's using the gradient descent and the learning rate\n",
    "            theta -= alpha *gradient_value    \n",
    "\n",
    "          \n",
    "        # Now we need to keep track of how our algorithm is inproving by learning and whether it is improving it's score. \n",
    "        score = 0\n",
    "        for j in range(x_test.shape[0]):\n",
    "        # We use the test set as our input for x\n",
    "            x_predict = prediction_function(x_test[j,:].T, theta) \n",
    "        # And then compare if the values are equal to the (correct) ones in the target set \n",
    "            if argmax(x_predict) == target_test[j]:\n",
    "            # If algorithm finds the correct x, add one to your score of correct predictions\n",
    "                score += 1\n",
    "        # Now get your score in percentage (out of the whole test set what percentage did you guess right)\n",
    "        performance = (score / x_test.shape[0])*100\n",
    "        performance_array.append(performance)\n",
    "\n",
    "\n",
    "    print (iterations, max(performance_array))"
   ]
  },
  {
   "cell_type": "markdown",
   "metadata": {},
   "source": [
    "\n",
    "## Check for overfitting \n",
    "It is important to check that you're not overfitting by testing your prediction on a testset. You can use the training error and the cross validation error for this. If the cross validation error and the training error are high (both almost the same value) then the bias is high, which means you are underfitting. If the cross validation error is high and the training error is low, then the varience is high, which means that you are overfitting.\n",
    "\n",
    " "
   ]
  },
  {
   "cell_type": "markdown",
   "metadata": {},
   "source": [
    "## Best score analysis \n",
    "\n",
    "The score changes as you change the number of iterations and the value for alpha. Therefore you should first check which alpha gives the best score (see code above) and then with that alpha change the number of iterations and check which one gives you the best score. I started with iterations constant at 500 and trying different values for Alpha. Which showed that the optimal Alpha is 0.001.\n",
    "\n",
    "##### Trial 1: <br>\n",
    "\n",
    "Alpha = 0.0001\n",
    "\n",
    "Score = 89.23\n",
    "\n",
    "##### Trial 2:  <br>\n",
    "\n",
    "Alpha = 0.001    <br>\n",
    "\n",
    "Score = 90.23   <br>\n",
    "\n",
    "\n",
    "##### Trial 3:   <br>\n",
    "\n",
    "Alpha = 0.005   <br>\n",
    "\n",
    "Score = 88.88   <br>\n",
    "\n",
    "Changing the iterations turned out to not cause a significant improvement for the score. I kept the Alpha this time constant at 0.001, as that turned out to be the optimal alpha according to my findings. These were my results for the different iterations:\n",
    "\n",
    "##### Trial 4: <br>\n",
    "\n",
    "Iterations = 500\n",
    "\n",
    "Score = 88.88\n",
    "\n",
    "##### Trial 5:  <br>\n",
    "\n",
    "Iterations = 700    <br>\n",
    "\n",
    "Score = 88.88   <br>\n",
    "\n",
    "\n",
    "##### Trial 6:   <br>\n",
    "\n",
    "Iterations = 900   <br>\n",
    "\n",
    "Score = 88.55   <br>\n",
    "\n",
    "Showing that 500 and 700 give the same score. However 500 takes a lot less time, so I would argue that 500 is the optimal number of iterations. "
   ]
  },
  {
   "cell_type": "markdown",
   "metadata": {},
   "source": [
    "## Summary ##\n",
    "\n",
    "In this assignment the goal was to make an algorithm that could used logistic regression for identifying numbers from images of hand-written digits. The algorithm includes a standard logistic regression hypothesis function, cost function and gradient descent function. All three in vectorized form. Next we used these functions to compare whether the hypotheses function predicted the correct x, and if not use the gradient descent to update the theta by multiplying it by a specific learningrate. And in this way learning and improving the number of correct classifications. The alpha and number of iterations that you choose has great influence on the result, so I have made a new cell where I used a for loop to check which alpha and what number of Iterations gave the highest score. Which turned out to be 500 iterations and an alpha of 0.001, giving a score of 90.23 % correct. "
   ]
  }
 ],
 "metadata": {
  "anaconda-cloud": {},
  "celltoolbar": "Raw Cell Format",
  "kernelspec": {
   "display_name": "Python 2",
   "language": "python",
   "name": "python2"
  },
  "language_info": {
   "codemirror_mode": {
    "name": "ipython",
    "version": 2
   },
   "file_extension": ".py",
   "mimetype": "text/x-python",
   "name": "python",
   "nbconvert_exporter": "python",
   "pygments_lexer": "ipython2",
   "version": "2.7.13"
  }
 },
 "nbformat": 4,
 "nbformat_minor": 1
}
