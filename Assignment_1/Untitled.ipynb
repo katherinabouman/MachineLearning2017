{
 "cells": [
  {
   "cell_type": "code",
   "execution_count": null,
   "metadata": {
    "collapsed": true
   },
   "outputs": [],
   "source": [
    "  - prediction_function (0.5)\\n\",\n",
    "    \"    - cost_function (1)\\n\",\n",
    "    \"    - compute_gradient (1)\\n\",\n",
    "    \"    - correct double for loop (2)\\n\",\n",
    "    \"    - correct stop condition (0.5)\\n\",\n",
    "    \"    - preventing overfitting (1)\\n\",\n",
    "    \"    - systematically choosing learning rate (1) \\n\",\n",
    "    \"    - best score analysis (1)\\n\",\n",
    "    \"    - summary (1)\\n\",\n",
    "    \"    - comments (0.5)\\n\",\n",
    "    \"    - code (0.5)\\n\","
   ]
  }
 ],
 "metadata": {
  "kernelspec": {
   "display_name": "Python 2",
   "language": "python",
   "name": "python2"
  },
  "language_info": {
   "codemirror_mode": {
    "name": "ipython",
    "version": 2
   },
   "file_extension": ".py",
   "mimetype": "text/x-python",
   "name": "python",
   "nbconvert_exporter": "python",
   "pygments_lexer": "ipython2",
   "version": "2.7.13"
  }
 },
 "nbformat": 4,
 "nbformat_minor": 2
}
