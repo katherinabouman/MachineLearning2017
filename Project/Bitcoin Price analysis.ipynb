{
 "cells": [
  {
   "cell_type": "code",
   "execution_count": 1,
   "metadata": {},
   "outputs": [
    {
     "name": "stdout",
     "output_type": "stream",
     "text": [
      "Populating the interactive namespace from numpy and matplotlib\n"
     ]
    }
   ],
   "source": [
    "import csv\n",
    "%pylab inline"
   ]
  },
  {
   "cell_type": "code",
   "execution_count": 18,
   "metadata": {
    "collapsed": true
   },
   "outputs": [],
   "source": [
    "# Importing dataset\n",
    "from sklearn.preprocessing import StandardScaler\n",
    "scaler = StandardScaler()\n",
    "\n",
    "# Attributes of dataset:'Date', 'Open', 'High', 'Low', 'Close', 'Volume (BTC)', Volume (Currency)', 'Weighted Price'\n",
    "\n",
    "with open(\"BTC_data.csv\") as csvfile:\n",
    "    reader = list(csv.reader(csvfile))[1::]\n",
    "    pre_data = delete(reader, [0, 2, 3, 5,  6], axis=1) # we remove the Date, High, Low and Volumes\n",
    "    d = []\n",
    "    for day in pre_data:\n",
    "        day_to_add = []\n",
    "        for element in day:\n",
    "            day_to_add.append(float(element))\n",
    "        if mean(day_to_add) != 0.0:\n",
    "            d.append(day_to_add)\n",
    "    \n",
    "data = flip(array(d), axis = 0)\n",
    "\n",
    "# Features: Open, Close, Weighted price\n"
   ]
  },
  {
   "cell_type": "code",
   "execution_count": 20,
   "metadata": {},
   "outputs": [
    {
     "name": "stdout",
     "output_type": "stream",
     "text": [
      "Counter({1: 1293, 0: 962})\n",
      "('len', 2255)\n"
     ]
    }
   ],
   "source": [
    "# CREATING LABELS\n",
    "from collections import Counter\n",
    "\n",
    "# We create labels based on the increase or decrease per day, which is what we want to predict\n",
    "# We discretize the labels in 5 classes: stable, small / big increase / decrease\n",
    "# Also try to have a binary label since the results were not as we expected. \n",
    "data_labels = []\n",
    "for day in data[1:]:\n",
    "    y = (day[1]-day[0]) / day[1]\n",
    "    if y >= 0:\n",
    "        data_labels.append(1)\n",
    "    elif y < 0:\n",
    "        data_labels.append(0)\n",
    "\n",
    "data_labels.append(1) # since we want to predict the change on T = t+1 using the features in T = t\n",
    "\n",
    "labels = array(data_labels)\n",
    "\n",
    "\n",
    "print(Counter(labels))\n",
    "print(\"len\", len(labels))"
   ]
  },
  {
   "cell_type": "code",
   "execution_count": 21,
   "metadata": {
    "collapsed": true
   },
   "outputs": [],
   "source": [
    "# ADD PERCENTUAL CHANGES PER DAY AS A FEATURE\n",
    "changes = []\n",
    "for day in data:\n",
    "    changes.append(100*(day[1]-day[0]) / day[1])\n",
    "    \n",
    "data_inc = c_[data, array(changes)]\n",
    "\n",
    "# Features: Open, Close, Weighted price, Change"
   ]
  },
  {
   "cell_type": "code",
   "execution_count": 22,
   "metadata": {},
   "outputs": [],
   "source": [
    "# CREATE MOVING AVERAGES FEATURES\n",
    "\n",
    "MA5 = [0,0,0,0,0]\n",
    "for day in range(5, len(data)):\n",
    "    m_a5 = array(mean(data[day - 5 : day], axis=0)[-1])\n",
    "    MA5.append(m_a5)\n",
    "\n",
    "\n",
    "MA15 = 15 * [1]\n",
    "for day in range(15, len(data)):\n",
    "    m_a15 = mean(data[day - 15 : day], axis=0)[-1]\n",
    "    MA15.append(m_a15)\n",
    "\n",
    "\n",
    "MA_fraction = 15 * [0] + [x / y for x, y in zip(MA5[15:], MA15[15:])]\n",
    "data_MA = c_[data_inc, array(MA_fraction)][:]\n",
    "\n",
    "# DELETE OPEN AND CLOSING PRICE AS FEATURES\n",
    "data = delete(data_MA, [0,1], axis = 1)\n",
    "\n",
    "\n",
    "# Features: Weighted price, Change, ratio_MA\n",
    "    "
   ]
  },
  {
   "cell_type": "code",
   "execution_count": 28,
   "metadata": {},
   "outputs": [
    {
     "data": {
      "image/png": "[encoded data removed]",
      "text/plain": [
       "<matplotlib.figure.Figure at 0x1111052d0>"
      ]
     },
     "metadata": {},
     "output_type": "display_data"
    }
   ],
   "source": [
    "plt.figure(1, figsize=(7, 5))\n",
    "for i in range(len(data)):\n",
    "    label = labels[i]\n",
    "    d = data[i]\n",
    "    if label == 0:\n",
    "        plt.scatter(d[1], d[2], marker='+', color='red')\n",
    "    else:\n",
    "        plt.scatter(d[1], d[2], marker='+', color='green')\n",
    "plt.show()"
   ]
  },
  {
   "cell_type": "code",
   "execution_count": 6,
   "metadata": {
    "collapsed": true
   },
   "outputs": [],
   "source": [
    "# SPLITTING DATA ADN TRAINING CLASSIFIERS\n",
    "from sklearn.model_selection import train_test_split \n",
    "\n",
    "# We split the data sequentially into a train and test set\n",
    "X_train, X_test, y_train, y_test = train_test_split(data, labels, test_size=0.2, shuffle=False)"
   ]
  },
  {
   "cell_type": "code",
   "execution_count": 7,
   "metadata": {},
   "outputs": [
    {
     "name": "stdout",
     "output_type": "stream",
     "text": [
      "('Test set accuracy:', 0.39246119733924612, '\\ncv', array([ 0.55647841,  0.56312292,  0.53      ]))\n",
      "[[177   0]\n",
      " [274   0]]\n",
      "             precision    recall  f1-score   support\n",
      "\n",
      "          0       0.39      1.00      0.56       177\n",
      "          1       0.00      0.00      0.00       274\n",
      "\n",
      "avg / total       0.15      0.39      0.22       451\n",
      "\n"
     ]
    },
    {
     "name": "stderr",
     "output_type": "stream",
     "text": [
      "/anaconda/lib/python2.7/site-packages/sklearn/metrics/classification.py:1135: UndefinedMetricWarning: Precision and F-score are ill-defined and being set to 0.0 in labels with no predicted samples.\n",
      "  'precision', 'predicted', average, warn_for)\n"
     ]
    }
   ],
   "source": [
    "from sklearn.linear_model import LogisticRegression\n",
    "from sklearn.model_selection import cross_val_score \n",
    "from sklearn.metrics import accuracy_score\n",
    "from sklearn.metrics import confusion_matrix\n",
    "from sklearn.metrics import classification_report\n",
    "\n",
    "# Normalize the data\n",
    "from sklearn.preprocessing import MinMaxScaler\n",
    "scaler = MinMaxScaler()\n",
    "scaler.fit(X_train)\n",
    "X_train_norm = scaler.transform(X_train)\n",
    "X_test_norm = scaler.transform(X_test)\n",
    "\n",
    "\n",
    "# LOGISTIC REGRESSION\n",
    "LR = LogisticRegression()\n",
    "LR.fit(X_train, y_train)\n",
    "LR_predictions = LR.predict(X_test)\n",
    "LR_CV_score = cross_val_score(LR, X_train, y_train, cv=3)\n",
    "LR_accuracy = accuracy_score(y_test, LR_predictions)\n",
    "print(\"Test set accuracy:\", LR_accuracy, \"\\ncv\", LR_CV_score)\n",
    "\n",
    "print(confusion_matrix(y_pred=LR_predictions, y_true=y_test))\n",
    "print(classification_report(y_pred=LR_predictions, y_true=y_test))"
   ]
  },
  {
   "cell_type": "code",
   "execution_count": 8,
   "metadata": {
    "scrolled": true
   },
   "outputs": [
    {
     "name": "stdout",
     "output_type": "stream",
     "text": [
      "('Test set accuracy:', 0.60753880266075388, '\\ncv', array([ 0.56509695,  0.57063712,  0.63434903,  0.43490305,  0.43611111]))\n",
      "[[  0 177]\n",
      " [  0 274]]\n",
      "             precision    recall  f1-score   support\n",
      "\n",
      "          0       0.00      0.00      0.00       177\n",
      "          1       0.61      1.00      0.76       274\n",
      "\n",
      "avg / total       0.37      0.61      0.46       451\n",
      "\n"
     ]
    }
   ],
   "source": [
    "# NEURAL NETWORKS\n",
    "from sklearn.neural_network import MLPClassifier\n",
    "\n",
    "# For the neural networks it is important to use normalized data\n",
    "MLP = MLPClassifier(max_iter=1000)\n",
    "MLP.fit(X_train, y_train)\n",
    "MLP_predictions = MLP.predict(X_test)\n",
    "MLP_CV_score = cross_val_score(MLP, X_train, y_train, cv=5)\n",
    "MLP_accuracy = accuracy_score(y_test, MLP_predictions)\n",
    "print(\"Test set accuracy:\", MLP_accuracy, \"\\ncv\", MLP_CV_score)\n",
    "\n",
    "print(confusion_matrix(y_pred=MLP_predictions, y_true=y_test))\n",
    "print(classification_report(y_pred=MLP_predictions, y_true=y_test))\n",
    "# score with default data: \n",
    "# Test set accuracy: 0.39689578714 \n",
    "# cv [ 0.20936639  0.27900552  0.4265928   0.39722222  0.40502793]\n"
   ]
  },
  {
   "cell_type": "code",
   "execution_count": 9,
   "metadata": {},
   "outputs": [
    {
     "name": "stdout",
     "output_type": "stream",
     "text": [
      "('DTC\\nTest set accuracy:', 0.42793791574279377, '\\ncv', array([ 0.57617729,  0.21883657,  0.32963989,  0.44598338,  0.51111111]))\n",
      "[[105  72]\n",
      " [186  88]]\n",
      "             precision    recall  f1-score   support\n",
      "\n",
      "          0       0.36      0.59      0.45       177\n",
      "          1       0.55      0.32      0.41       274\n",
      "\n",
      "avg / total       0.48      0.43      0.42       451\n",
      "\n",
      "('RF\\nTest set accuracy:', 0.42350332594235035, '\\ncv', array([ 0.56509695,  0.2299169 ,  0.29362881,  0.47091413,  0.475     ]))\n",
      "[[153  24]\n",
      " [236  38]]\n",
      "             precision    recall  f1-score   support\n",
      "\n",
      "          0       0.39      0.86      0.54       177\n",
      "          1       0.61      0.14      0.23       274\n",
      "\n",
      "avg / total       0.53      0.42      0.35       451\n",
      "\n"
     ]
    }
   ],
   "source": [
    "# Decision Tree and Randomforests\n",
    "from sklearn.ensemble import RandomForestClassifier\n",
    "from sklearn.tree import DecisionTreeClassifier\n",
    "\n",
    "# Decision Tree\n",
    "DTC = DecisionTreeClassifier()\n",
    "DTC.fit(X_train, y_train)\n",
    "DTC_predictions = DTC.predict(X_test)\n",
    "DTC_CV_score = cross_val_score(DTC, X_train, y_train, cv=5)\n",
    "DTC_accuracy = accuracy_score(y_test, DTC_predictions)\n",
    "print(\"DTC\\nTest set accuracy:\", DTC_accuracy, \"\\ncv\", DTC_CV_score)\n",
    "\n",
    "print(confusion_matrix(y_pred=DTC_predictions, y_true=y_test))\n",
    "print(classification_report(y_pred=DTC_predictions, y_true=y_test))\n",
    "\n",
    "# Random forest\n",
    "RF = RandomForestClassifier()\n",
    "RF.fit(X_train, y_train)\n",
    "RF_predictions = RF.predict(X_test)\n",
    "RF_CV_score = cross_val_score(RF, X_train, y_train, cv=5)\n",
    "RF_accuracy = accuracy_score(y_test, RF_predictions)\n",
    "print(\"RF\\nTest set accuracy:\", RF_accuracy, \"\\ncv\", RF_CV_score)\n",
    "\n",
    "print(confusion_matrix(y_pred=RF_predictions, y_true=y_test))\n",
    "print(classification_report(y_pred=RF_predictions, y_true=y_test))"
   ]
  },
  {
   "cell_type": "code",
   "execution_count": 10,
   "metadata": {},
   "outputs": [
    {
     "name": "stdout",
     "output_type": "stream",
     "text": [
      "('SVM\\nTest set accuracy:', 0.56097560975609762, '\\ncv', array([ 0.56509695,  0.56509695,  0.5567867 ,  0.4598338 ,  0.49166667]))\n",
      "[[ 55 122]\n",
      " [ 76 198]]\n",
      "             precision    recall  f1-score   support\n",
      "\n",
      "          0       0.42      0.31      0.36       177\n",
      "          1       0.62      0.72      0.67       274\n",
      "\n",
      "avg / total       0.54      0.56      0.55       451\n",
      "\n"
     ]
    }
   ],
   "source": [
    "from sklearn import svm\n",
    "SVM = svm.SVC()\n",
    "SVM.fit(X_train_norm, y_train)\n",
    "SVM_predictions = SVM.predict(X_test_norm)\n",
    "SVM_CV_score = cross_val_score(SVM, X_train_norm, y_train, cv=5)\n",
    "SVM_accuracy = accuracy_score(y_test, SVM_predictions)\n",
    "print(\"SVM\\nTest set accuracy:\", SVM_accuracy, \"\\ncv\", SVM_CV_score)\n",
    "\n",
    "print(confusion_matrix(y_pred=SVM_predictions, y_true=y_test))\n",
    "print(classification_report(y_pred=SVM_predictions, y_true=y_test))"
   ]
  },
  {
   "cell_type": "code",
   "execution_count": 11,
   "metadata": {
    "collapsed": true
   },
   "outputs": [],
   "source": [
    "# make graphs comparing the predictions and the real prices"
   ]
  },
  {
   "cell_type": "code",
   "execution_count": 12,
   "metadata": {},
   "outputs": [
    {
     "ename": "IndexError",
     "evalue": "list index out of range",
     "output_type": "error",
     "traceback": [
      "\u001b[0;31m---------------------------------------------------------------------------\u001b[0m",
      "\u001b[0;31mIndexError\u001b[0m                                Traceback (most recent call last)",
      "\u001b[0;32m<ipython-input-12-024261bc5d37>\u001b[0m in \u001b[0;36m<module>\u001b[0;34m()\u001b[0m\n\u001b[1;32m      3\u001b[0m \u001b[0mplt\u001b[0m\u001b[0;34m.\u001b[0m\u001b[0mfigure\u001b[0m\u001b[0;34m(\u001b[0m\u001b[0;36m1\u001b[0m\u001b[0;34m,\u001b[0m \u001b[0mfigsize\u001b[0m\u001b[0;34m=\u001b[0m\u001b[0;34m(\u001b[0m\u001b[0;36m7\u001b[0m\u001b[0;34m,\u001b[0m \u001b[0;36m5\u001b[0m\u001b[0;34m)\u001b[0m\u001b[0;34m)\u001b[0m\u001b[0;34m\u001b[0m\u001b[0m\n\u001b[1;32m      4\u001b[0m \u001b[0;32mfor\u001b[0m \u001b[0mi\u001b[0m \u001b[0;32min\u001b[0m \u001b[0mrange\u001b[0m\u001b[0;34m(\u001b[0m\u001b[0mlen\u001b[0m\u001b[0;34m(\u001b[0m\u001b[0mdata\u001b[0m\u001b[0;34m)\u001b[0m\u001b[0;34m)\u001b[0m\u001b[0;34m:\u001b[0m\u001b[0;34m\u001b[0m\u001b[0m\n\u001b[0;32m----> 5\u001b[0;31m     \u001b[0mv\u001b[0m \u001b[0;34m=\u001b[0m \u001b[0mlog10\u001b[0m\u001b[0;34m(\u001b[0m\u001b[0md\u001b[0m\u001b[0;34m[\u001b[0m\u001b[0mi\u001b[0m\u001b[0;34m]\u001b[0m\u001b[0;34m[\u001b[0m\u001b[0;36m5\u001b[0m\u001b[0;34m]\u001b[0m\u001b[0;34m)\u001b[0m\u001b[0;34m\u001b[0m\u001b[0m\n\u001b[0m\u001b[1;32m      6\u001b[0m     \u001b[0mplt\u001b[0m\u001b[0;34m.\u001b[0m\u001b[0mscatter\u001b[0m\u001b[0;34m(\u001b[0m\u001b[0mi\u001b[0m\u001b[0;34m,\u001b[0m \u001b[0mv\u001b[0m\u001b[0;34m,\u001b[0m \u001b[0mmarker\u001b[0m\u001b[0;34m=\u001b[0m\u001b[0;34m'+'\u001b[0m\u001b[0;34m,\u001b[0m \u001b[0mcolor\u001b[0m\u001b[0;34m=\u001b[0m\u001b[0;34m'black'\u001b[0m\u001b[0;34m)\u001b[0m\u001b[0;34m\u001b[0m\u001b[0m\n\u001b[1;32m      7\u001b[0m \u001b[0mplt\u001b[0m\u001b[0;34m.\u001b[0m\u001b[0mshow\u001b[0m\u001b[0;34m(\u001b[0m\u001b[0;34m)\u001b[0m\u001b[0;34m\u001b[0m\u001b[0m\n",
      "\u001b[0;31mIndexError\u001b[0m: list index out of range"
     ]
    },
    {
     "data": {
      "text/plain": [
       "<matplotlib.figure.Figure at 0x10fb35650>"
      ]
     },
     "metadata": {},
     "output_type": "display_data"
    }
   ],
   "source": [
    "# Plotting\n",
    "\n",
    "plt.figure(1, figsize=(7, 5))\n",
    "for i in range(len(data)):\n",
    "    v = log10(d[i][5])\n",
    "    plt.scatter(i, v, marker='+', color='black')\n",
    "plt.show()\n",
    "\n",
    "plt.figure(1, figsize=(7, 5))\n",
    "for i in range(len(data)):\n",
    "    v = d[i][5]\n",
    "    plt.scatter(i, v, marker='+', color='black')\n",
    "plt.show()\n",
    "\n",
    "plt.figure(1, figsize=(7, 5))\n",
    "for i in range(15, len(data)):\n",
    "    w = d[i][-1]\n",
    "    plt.scatter(i, w, marker='+', color='black')\n",
    "plt.show()"
   ]
  }
 ],
 "metadata": {
  "kernelspec": {
   "display_name": "Python 2",
   "language": "python",
   "name": "python2"
  },
  "language_info": {
   "codemirror_mode": {
    "name": "ipython",
    "version": 2
   },
   "file_extension": ".py",
   "mimetype": "text/x-python",
   "name": "python",
   "nbconvert_exporter": "python",
   "pygments_lexer": "ipython2",
   "version": "2.7.13"
  }
 },
 "nbformat": 4,
 "nbformat_minor": 2
}
