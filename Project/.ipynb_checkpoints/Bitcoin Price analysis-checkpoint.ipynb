{
 "cells": [
  {
   "cell_type": "code",
   "execution_count": 23,
   "metadata": {},
   "outputs": [
    {
     "name": "stdout",
     "output_type": "stream",
     "text": [
      "Populating the interactive namespace from numpy and matplotlib\n"
     ]
    }
   ],
   "source": [
    "import csv\n",
    "%pylab inline"
   ]
  },
  {
   "cell_type": "code",
   "execution_count": 24,
   "metadata": {
    "collapsed": true
   },
   "outputs": [],
   "source": [
    "# Importing dataset\n",
    "from sklearn.preprocessing import StandardScaler\n",
    "scaler = StandardScaler()\n",
    "\n",
    "# Attributes of dataset:'Date', 'Open', 'High', 'Low', 'Close', 'Volume (BTC)', Volume (Currency)', 'Weighted Price'\n",
    "\n",
    "with open(\"BTC_data.csv\") as csvfile:\n",
    "    reader = list(csv.reader(csvfile))[1::]\n",
    "    pre_data = delete(reader, [0, 2, 3, 5,  6], axis=1) # we remove the Date, High, Low and Volumes\n",
    "    data1 = []\n",
    "    for day in pre_data:\n",
    "        day_to_add = []\n",
    "        for element in day:\n",
    "            day_to_add.append(float(element))\n",
    "        if mean(day_to_add) != 0.0:\n",
    "            data1.append(day_to_add)\n",
    "    \n",
    "data2 = flip(array(data1), axis = 0)\n",
    "\n",
    "# Features: Open, Close, Weighted price\n",
    "\n",
    "\n"
   ]
  },
  {
   "cell_type": "code",
   "execution_count": 25,
   "metadata": {},
   "outputs": [
    {
     "name": "stdout",
     "output_type": "stream",
     "text": [
      "Counter({1: 1293, 0: 962})\n",
      "('len', 2255)\n"
     ]
    }
   ],
   "source": [
    "# CREATING LABELS\n",
    "from collections import Counter\n",
    "\n",
    "# We create labels based on the increase or decrease per day, which is what we want to predict\n",
    "# We discretize the labels in 5 classes: stable, small / big increase / decrease\n",
    "# Also try to have a binary label since the results were not as we expected. \n",
    "data_labels = []\n",
    "for day in data2[1:]:\n",
    "    y = (day[1]-day[0]) / day[1]\n",
    "    if y >= 0:\n",
    "        data_labels.append(1)\n",
    "    elif y < 0:\n",
    "        data_labels.append(0)\n",
    "\n",
    "data_labels.append(1) # since we want to predict the change on T = t+1 using the features in T = t\n",
    "\n",
    "labels = array(data_labels)\n",
    "\n",
    "\n",
    "print(Counter(labels))\n",
    "print(\"len\", len(labels))"
   ]
  },
  {
   "cell_type": "code",
   "execution_count": 26,
   "metadata": {},
   "outputs": [
    {
     "name": "stdout",
     "output_type": "stream",
     "text": [
      "[-94.244604316546742]\n"
     ]
    }
   ],
   "source": [
    "# ADD PERCENTUAL CHANGES PER DAY AS A FEATURE\n",
    "changes = []\n",
    "for day in data2:\n",
    "    changes.append(100*(day[1]-day[0]) / day[1])\n",
    "    \n",
    "data_inc = c_[data2, array(changes)]\n",
    "\n",
    "large = [i[-1] for i in data_inc if i[-1] < -60]\n",
    "print(large)\n",
    "\n",
    "# Features: Open, Close, Weighted price, Change"
   ]
  },
  {
   "cell_type": "code",
   "execution_count": 27,
   "metadata": {},
   "outputs": [
    {
     "name": "stdout",
     "output_type": "stream",
     "text": [
      "[[  5.92923065e+00  -1.08220629e+02   1.00000000e+00]\n",
      " [  5.59079751e+00   7.18342205e+02   1.00000000e+00]\n",
      " [  5.09427191e+00  -2.51336149e+03   1.00000000e+00]\n",
      " [  4.85451505e+00  -6.84813266e+02   1.00000000e+00]\n",
      " [  4.87000000e+00             -inf   1.00000000e+00]\n",
      " [  4.83957559e+00  -3.76214238e+02   1.00000000e+00]\n",
      " [  4.90000000e+00             -inf   1.00000000e+00]\n",
      " [  5.38805369e+00   5.87886704e+01   1.00000000e+00]\n",
      " [  5.70607488e+00   9.07409595e+02   1.00000000e+00]\n",
      " [  5.69696046e+00  -7.14665345e+02   1.00000000e+00]\n",
      " [  5.70709887e+00  -1.53223028e+03   1.00000000e+00]\n",
      " [  5.72249402e+00   1.72518830e+03   1.00000000e+00]\n",
      " [  6.05000000e+00             -inf   1.00000000e+00]\n",
      " [  5.98307348e+00   1.22792661e+02   1.00000000e+00]\n",
      " [  4.89540167e+00  -2.44076803e+02   1.00000000e+00]\n",
      " [  4.86249770e+00   3.92965487e+02   1.00000000e+00]\n",
      " [  4.81634481e+00  -2.22147820e+03   9.44943990e-01]\n",
      " [  4.84777191e+00  -1.08043246e+03   9.28057234e-01]\n",
      " [  4.92473681e+00  -1.04376578e+02   9.42084444e-01]\n",
      " [  5.02941875e+00             -inf   9.73501210e-01]]\n"
     ]
    }
   ],
   "source": [
    "# CREATE MOVING AVERAGES FEATURES\n",
    "\n",
    "MA5 = 15*[0]\n",
    "for day in range(15, len(data2)):\n",
    "    m_a5 = array(mean(data2[day - 5 : day], axis=0)[-1])\n",
    "    MA5.append(m_a5)\n",
    "\n",
    "MA15 = 15 * [0]\n",
    "for day in range(15, len(d)):\n",
    "    m_a15 = mean(data2[day - 15 : day], axis=0)[-1]\n",
    "    MA15.append(m_a15)\n",
    "\n",
    "MA_fraction =  16*[1.0] + [float(x / y) for x, y in zip(MA5[16:], MA15[16:])]\n",
    "data_MA = c_[data_inc, array(MA_fraction)][:]\n",
    "\n",
    "# DELETE OPEN AND CLOSING PRICE AS FEATURES\n",
    "data3 = delete(data_MA, [0,1], axis = 1)\n",
    "\n",
    "#print([i for i in data if type(i.any()) != float])\n",
    "# A lot of nan's in the last column\n",
    "\n",
    "\n",
    "# Features: Weighted price, Change, ratio_MA\n",
    "print(data[:20])"
   ]
  },
  {
   "cell_type": "code",
   "execution_count": 28,
   "metadata": {},
   "outputs": [
    {
     "data": {
      "image/png": "[encoded data removed]",
      "text/plain": [
       "<matplotlib.figure.Figure at 0x10df768d0>"
      ]
     },
     "metadata": {},
     "output_type": "display_data"
    }
   ],
   "source": [
    "# Plotting the change in value against the ratio between the MA's\n",
    "\n",
    "#plt.figure(1, figsize=(7, 5))\n",
    "#for i in data:\n",
    "#    plt.scatter(i[1], i[2], marker='+', color='red')\n",
    "#plt.show()\n",
    "\n",
    "plt.figure(1, figsize=(7, 5))\n",
    "for i in range(len(data3)):\n",
    "    instance = data3[i]\n",
    "    label = labels[i]\n",
    "    if label == 0:\n",
    "        plt.scatter(instance[1], instance[2], marker='o', color='red')\n",
    "    else:\n",
    "        plt.scatter(instance[1], instance[2], marker='+', color='green')\n",
    "plt.show()\n",
    "    "
   ]
  },
  {
   "cell_type": "code",
   "execution_count": 30,
   "metadata": {
    "collapsed": true
   },
   "outputs": [],
   "source": [
    "# SPLITTING DATA ADN TRAINING CLASSIFIERS\n",
    "from sklearn.model_selection import train_test_split \n",
    "\n",
    "# We split the data sequentially into a train and test set\n",
    "X_train, X_test, y_train, y_test = train_test_split(data3, labels, test_size=0.2, shuffle=False)"
   ]
  },
  {
   "cell_type": "code",
   "execution_count": 31,
   "metadata": {},
   "outputs": [
    {
     "name": "stdout",
     "output_type": "stream",
     "text": [
      "('Test set accuracy:', 0.39246119733924612, '\\ncv', array([ 0.56478405,  0.56644518,  0.52333333]))\n",
      "[[177   0]\n",
      " [274   0]]\n",
      "             precision    recall  f1-score   support\n",
      "\n",
      "          0       0.39      1.00      0.56       177\n",
      "          1       0.00      0.00      0.00       274\n",
      "\n",
      "avg / total       0.15      0.39      0.22       451\n",
      "\n"
     ]
    },
    {
     "name": "stderr",
     "output_type": "stream",
     "text": [
      "/anaconda/lib/python2.7/site-packages/sklearn/metrics/classification.py:1135: UndefinedMetricWarning: Precision and F-score are ill-defined and being set to 0.0 in labels with no predicted samples.\n",
      "  'precision', 'predicted', average, warn_for)\n"
     ]
    }
   ],
   "source": [
    "from sklearn.linear_model import LogisticRegression\n",
    "from sklearn.model_selection import cross_val_score \n",
    "from sklearn.metrics import accuracy_score\n",
    "from sklearn.metrics import confusion_matrix\n",
    "from sklearn.metrics import classification_report\n",
    "\n",
    "# Normalize the data\n",
    "from sklearn.preprocessing import MinMaxScaler\n",
    "scaler = MinMaxScaler()\n",
    "scaler.fit(X_train)\n",
    "X_train_norm = scaler.transform(X_train)\n",
    "X_test_norm = scaler.transform(X_test)\n",
    "\n",
    "\n",
    "# LOGISTIC REGRESSION\n",
    "LR = LogisticRegression()\n",
    "LR.fit(X_train, y_train)\n",
    "LR_predictions = LR.predict(X_test)\n",
    "LR_CV_score = cross_val_score(LR, X_train, y_train, cv=3)\n",
    "LR_accuracy = accuracy_score(y_test, LR_predictions)\n",
    "print(\"Test set accuracy:\", LR_accuracy, \"\\ncv\", LR_CV_score)\n",
    "\n",
    "print(confusion_matrix(y_pred=LR_predictions, y_true=y_test))\n",
    "print(classification_report(y_pred=LR_predictions, y_true=y_test))"
   ]
  },
  {
   "cell_type": "code",
   "execution_count": 32,
   "metadata": {
    "scrolled": true
   },
   "outputs": [
    {
     "name": "stdout",
     "output_type": "stream",
     "text": [
      "('Test set accuracy:', 0.39246119733924612, '\\ncv', array([ 0.56509695,  0.5734072 ,  0.56509695,  0.44875346,  0.49722222]))\n",
      "[[177   0]\n",
      " [274   0]]\n",
      "             precision    recall  f1-score   support\n",
      "\n",
      "          0       0.39      1.00      0.56       177\n",
      "          1       0.00      0.00      0.00       274\n",
      "\n",
      "avg / total       0.15      0.39      0.22       451\n",
      "\n"
     ]
    }
   ],
   "source": [
    "# NEURAL NETWORKS\n",
    "from sklearn.neural_network import MLPClassifier\n",
    "\n",
    "# For the neural networks it is important to use normalized data\n",
    "MLP = MLPClassifier(max_iter=1000)\n",
    "MLP.fit(X_train, y_train)\n",
    "MLP_predictions = MLP.predict(X_test)\n",
    "MLP_CV_score = cross_val_score(MLP, X_train, y_train, cv=5)\n",
    "MLP_accuracy = accuracy_score(y_test, MLP_predictions)\n",
    "print(\"Test set accuracy:\", MLP_accuracy, \"\\ncv\", MLP_CV_score)\n",
    "\n",
    "print(confusion_matrix(y_pred=MLP_predictions, y_true=y_test))\n",
    "print(classification_report(y_pred=MLP_predictions, y_true=y_test))\n",
    "# score with default data: \n",
    "# Test set accuracy: 0.39689578714 \n",
    "# cv [ 0.20936639  0.27900552  0.4265928   0.39722222  0.40502793]\n"
   ]
  },
  {
   "cell_type": "code",
   "execution_count": 33,
   "metadata": {},
   "outputs": [
    {
     "name": "stdout",
     "output_type": "stream",
     "text": [
      "('DTC\\nTest set accuracy:', 0.42350332594235035, '\\ncv', array([ 0.57617729,  0.2132964 ,  0.31855956,  0.4432133 ,  0.49722222]))\n",
      "[[117  60]\n",
      " [200  74]]\n",
      "             precision    recall  f1-score   support\n",
      "\n",
      "          0       0.37      0.66      0.47       177\n",
      "          1       0.55      0.27      0.36       274\n",
      "\n",
      "avg / total       0.48      0.42      0.41       451\n",
      "\n",
      "('RF\\nTest set accuracy:', 0.41241685144124168, '\\ncv', array([ 0.56509695,  0.24376731,  0.32686981,  0.4265928 ,  0.50833333]))\n",
      "[[150  27]\n",
      " [238  36]]\n",
      "             precision    recall  f1-score   support\n",
      "\n",
      "          0       0.39      0.85      0.53       177\n",
      "          1       0.57      0.13      0.21       274\n",
      "\n",
      "avg / total       0.50      0.41      0.34       451\n",
      "\n"
     ]
    }
   ],
   "source": [
    "# Decision Tree and Randomforests\n",
    "from sklearn.ensemble import RandomForestClassifier\n",
    "from sklearn.tree import DecisionTreeClassifier\n",
    "\n",
    "# Decision Tree\n",
    "DTC = DecisionTreeClassifier()\n",
    "DTC.fit(X_train, y_train)\n",
    "DTC_predictions = DTC.predict(X_test)\n",
    "DTC_CV_score = cross_val_score(DTC, X_train, y_train, cv=5)\n",
    "DTC_accuracy = accuracy_score(y_test, DTC_predictions)\n",
    "print(\"DTC\\nTest set accuracy:\", DTC_accuracy, \"\\ncv\", DTC_CV_score)\n",
    "\n",
    "print(confusion_matrix(y_pred=DTC_predictions, y_true=y_test))\n",
    "print(classification_report(y_pred=DTC_predictions, y_true=y_test))\n",
    "\n",
    "# Random forest\n",
    "RF = RandomForestClassifier()\n",
    "RF.fit(X_train, y_train)\n",
    "RF_predictions = RF.predict(X_test)\n",
    "RF_CV_score = cross_val_score(RF, X_train, y_train, cv=5)\n",
    "RF_accuracy = accuracy_score(y_test, RF_predictions)\n",
    "print(\"RF\\nTest set accuracy:\", RF_accuracy, \"\\ncv\", RF_CV_score)\n",
    "\n",
    "print(confusion_matrix(y_pred=RF_predictions, y_true=y_test))\n",
    "print(classification_report(y_pred=RF_predictions, y_true=y_test))"
   ]
  },
  {
   "cell_type": "code",
   "execution_count": 75,
   "metadata": {},
   "outputs": [
    {
     "name": "stdout",
     "output_type": "stream",
     "text": [
      "('SVM\\nTest set accuracy:', 0.52106430155210648, '\\ncv', array([ 0.58448753,  0.54847645,  0.59279778]))\n",
      "[[ 90  87]\n",
      " [129 145]]\n",
      "             precision    recall  f1-score   support\n",
      "\n",
      "          0       0.41      0.51      0.45       177\n",
      "          1       0.62      0.53      0.57       274\n",
      "\n",
      "avg / total       0.54      0.52      0.53       451\n",
      "\n"
     ]
    }
   ],
   "source": [
    "from sklearn import svm\n",
    "from sklearn.model_selection import ShuffleSplit\n",
    "SVM = svm.SVC()\n",
    "SVM.fit(X_train_norm, y_train)\n",
    "SVM_predictions = SVM.predict(X_test_norm)\n",
    "cv = ShuffleSplit(n_splits=3, test_size=0.2, random_state=0)\n",
    "SVM_CV_score = cross_val_score(SVM, X_train_norm, y_train, cv=cv)\n",
    "SVM_accuracy = accuracy_score(y_test, SVM_predictions)\n",
    "print(\"SVM\\nTest set accuracy:\", SVM_accuracy, \"\\ncv\", SVM_CV_score)\n",
    "\n",
    "print(confusion_matrix(y_pred=SVM_predictions, y_true=y_test))\n",
    "print(classification_report(y_pred=SVM_predictions, y_true=y_test))"
   ]
  },
  {
   "cell_type": "code",
   "execution_count": 70,
   "metadata": {},
   "outputs": [
    {
     "name": "stdout",
     "output_type": "stream",
     "text": [
      "{'kernel': 'sigmoid', 'C': 1000, 'gamma': 0.1}\n"
     ]
    }
   ],
   "source": [
    "from sklearn.grid_search import GridSearchCV\n",
    "\n",
    "svc = svm.SVC()\n",
    " \n",
    "param_grid = { \n",
    "           \"kernel\" : ['linear', 'poly', 'rbf', 'sigmoid'],\n",
    "           \"gamma\" : [1e-1, 1e-2, 1e-3, 1e-4],\n",
    "           \"C\" : [1, 10, 100, 1000]}\n",
    " \n",
    "CV_svc = GridSearchCV(estimator=svc, param_grid=param_grid, cv= 10)\n",
    "CV_svc.fit(X_train_norm, y_train)\n",
    "print CV_svc.best_params_"
   ]
  },
  {
   "cell_type": "code",
   "execution_count": 77,
   "metadata": {},
   "outputs": [
    {
     "name": "stdout",
     "output_type": "stream",
     "text": [
      "('SVM\\nTest set accuracy:', 0.40576496674057649, '\\ncv', array([ 0.52077562,  0.65096953,  0.75900277,  0.52354571,  0.55      ]))\n",
      "[[162  15]\n",
      " [253  21]]\n",
      "             precision    recall  f1-score   support\n",
      "\n",
      "          0       0.39      0.92      0.55       177\n",
      "          1       0.58      0.08      0.14       274\n",
      "\n",
      "avg / total       0.51      0.41      0.30       451\n",
      "\n"
     ]
    }
   ],
   "source": [
    "SVM2 = svm.SVC(kernel='sigmoid', C=1000, gamma=0.1)\n",
    "SVM2.fit(X_train_norm, y_train)\n",
    "SVM2_predictions = SVM2.predict(X_test_norm)\n",
    "SVM2_CV_score = cross_val_score(SVM2, X_train_norm, y_train, cv=5)\n",
    "SVM2_accuracy = accuracy_score(y_test, SVM2_predictions)\n",
    "print(\"SVM\\nTest set accuracy:\", SVM2_accuracy, \"\\ncv\", SVM2_CV_score)\n",
    "\n",
    "print(confusion_matrix(y_pred=SVM2_predictions, y_true=y_test))\n",
    "print(classification_report(y_pred=SVM2_predictions, y_true=y_test))"
   ]
  },
  {
   "cell_type": "code",
   "execution_count": 11,
   "metadata": {
    "collapsed": true
   },
   "outputs": [],
   "source": [
    "# make graphs comparing the predictions and the real prices"
   ]
  },
  {
   "cell_type": "code",
   "execution_count": 36,
   "metadata": {},
   "outputs": [
    {
     "ename": "IndexError",
     "evalue": "index 5 is out of bounds for axis 0 with size 3",
     "output_type": "error",
     "traceback": [
      "\u001b[0;31m---------------------------------------------------------------------------\u001b[0m",
      "\u001b[0;31mIndexError\u001b[0m                                Traceback (most recent call last)",
      "\u001b[0;32m<ipython-input-36-024261bc5d37>\u001b[0m in \u001b[0;36m<module>\u001b[0;34m()\u001b[0m\n\u001b[1;32m      3\u001b[0m \u001b[0mplt\u001b[0m\u001b[0;34m.\u001b[0m\u001b[0mfigure\u001b[0m\u001b[0;34m(\u001b[0m\u001b[0;36m1\u001b[0m\u001b[0;34m,\u001b[0m \u001b[0mfigsize\u001b[0m\u001b[0;34m=\u001b[0m\u001b[0;34m(\u001b[0m\u001b[0;36m7\u001b[0m\u001b[0;34m,\u001b[0m \u001b[0;36m5\u001b[0m\u001b[0;34m)\u001b[0m\u001b[0;34m)\u001b[0m\u001b[0;34m\u001b[0m\u001b[0m\n\u001b[1;32m      4\u001b[0m \u001b[0;32mfor\u001b[0m \u001b[0mi\u001b[0m \u001b[0;32min\u001b[0m \u001b[0mrange\u001b[0m\u001b[0;34m(\u001b[0m\u001b[0mlen\u001b[0m\u001b[0;34m(\u001b[0m\u001b[0mdata\u001b[0m\u001b[0;34m)\u001b[0m\u001b[0;34m)\u001b[0m\u001b[0;34m:\u001b[0m\u001b[0;34m\u001b[0m\u001b[0m\n\u001b[0;32m----> 5\u001b[0;31m     \u001b[0mv\u001b[0m \u001b[0;34m=\u001b[0m \u001b[0mlog10\u001b[0m\u001b[0;34m(\u001b[0m\u001b[0md\u001b[0m\u001b[0;34m[\u001b[0m\u001b[0mi\u001b[0m\u001b[0;34m]\u001b[0m\u001b[0;34m[\u001b[0m\u001b[0;36m5\u001b[0m\u001b[0;34m]\u001b[0m\u001b[0;34m)\u001b[0m\u001b[0;34m\u001b[0m\u001b[0m\n\u001b[0m\u001b[1;32m      6\u001b[0m     \u001b[0mplt\u001b[0m\u001b[0;34m.\u001b[0m\u001b[0mscatter\u001b[0m\u001b[0;34m(\u001b[0m\u001b[0mi\u001b[0m\u001b[0;34m,\u001b[0m \u001b[0mv\u001b[0m\u001b[0;34m,\u001b[0m \u001b[0mmarker\u001b[0m\u001b[0;34m=\u001b[0m\u001b[0;34m'+'\u001b[0m\u001b[0;34m,\u001b[0m \u001b[0mcolor\u001b[0m\u001b[0;34m=\u001b[0m\u001b[0;34m'black'\u001b[0m\u001b[0;34m)\u001b[0m\u001b[0;34m\u001b[0m\u001b[0m\n\u001b[1;32m      7\u001b[0m \u001b[0mplt\u001b[0m\u001b[0;34m.\u001b[0m\u001b[0mshow\u001b[0m\u001b[0;34m(\u001b[0m\u001b[0;34m)\u001b[0m\u001b[0;34m\u001b[0m\u001b[0m\n",
      "\u001b[0;31mIndexError\u001b[0m: index 5 is out of bounds for axis 0 with size 3"
     ]
    },
    {
     "data": {
      "text/plain": [
       "<matplotlib.figure.Figure at 0x10a46a750>"
      ]
     },
     "metadata": {},
     "output_type": "display_data"
    }
   ],
   "source": [
    "# Plotting\n",
    "\n",
    "plt.figure(1, figsize=(7, 5))\n",
    "for i in range(len(data)):\n",
    "    v = log10(d[i][5])\n",
    "    plt.scatter(i, v, marker='+', color='black')\n",
    "plt.show()\n",
    "\n",
    "plt.figure(1, figsize=(7, 5))\n",
    "for i in range(len(data)):\n",
    "    v = d[i][5]\n",
    "    plt.scatter(i, v, marker='+', color='black')\n",
    "plt.show()\n",
    "\n",
    "plt.figure(1, figsize=(7, 5))\n",
    "for i in range(15, len(data)):\n",
    "    w = d[i][-1]\n",
    "    plt.scatter(i, w, marker='+', color='black')\n",
    "plt.show()"
   ]
  },
  {
   "cell_type": "code",
   "execution_count": null,
   "metadata": {
    "collapsed": true
   },
   "outputs": [],
   "source": []
  }
 ],
 "metadata": {
  "kernelspec": {
   "display_name": "Python 2",
   "language": "python",
   "name": "python2"
  },
  "language_info": {
   "codemirror_mode": {
    "name": "ipython",
    "version": 2
   },
   "file_extension": ".py",
   "mimetype": "text/x-python",
   "name": "python",
   "nbconvert_exporter": "python",
   "pygments_lexer": "ipython2",
   "version": "2.7.13"
  }
 },
 "nbformat": 4,
 "nbformat_minor": 2
}
